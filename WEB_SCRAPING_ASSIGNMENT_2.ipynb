{
  "nbformat": 4,
  "nbformat_minor": 0,
  "metadata": {
    "colab": {
      "name": "WEB SCRAPING ASSIGNMENT-2.ipynb",
      "provenance": [],
      "collapsed_sections": []
    },
    "kernelspec": {
      "name": "python3",
      "display_name": "Python 3"
    }
  },
  "cells": [
    {
      "cell_type": "code",
      "metadata": {
        "colab": {
          "base_uri": "https://localhost:8080/"
        },
        "id": "Xz15srGIZD7v",
        "outputId": "de983901-7d04-448e-c3de-e38703804905"
      },
      "source": [
        "!pip install selenium\r\n",
        "!pip install BeautifulSoup\r\n",
        "!apt-get update # to update ubuntu to correctly run apt install\r\n",
        "!apt install chromium-chromedriver\r\n",
        "!cp /usr/lib/chromium-browser/chromedriver /usr/bin\r\n",
        "import sys\r\n",
        "sys.path.insert(0,'/usr/lib/chromium-browser/chromedriver')\r\n",
        "from selenium import webdriver\r\n",
        "chrome_options = webdriver.ChromeOptions()\r\n",
        "chrome_options.add_argument('--headless')\r\n",
        "chrome_options.add_argument('--no-sandbox')\r\n",
        "chrome_options.add_argument('--disable-dev-shm-usage')\r\n",
        "driver =webdriver.Chrome('chromedriver',chrome_options=chrome_options)\r\n",
        "from selenium.common.exceptions import NoSuchElementException"
      ],
      "execution_count": 350,
      "outputs": [
        {
          "output_type": "stream",
          "text": [
            "Requirement already satisfied: selenium in /usr/local/lib/python3.6/dist-packages (3.141.0)\n",
            "Requirement already satisfied: urllib3 in /usr/local/lib/python3.6/dist-packages (from selenium) (1.24.3)\n",
            "Collecting BeautifulSoup\n",
            "  Using cached https://files.pythonhosted.org/packages/40/f2/6c9f2f3e696ee6a1fb0e4d7850617e224ed2b0b1e872110abffeca2a09d4/BeautifulSoup-3.2.2.tar.gz\n",
            "\u001b[31mERROR: Command errored out with exit status 1: python setup.py egg_info Check the logs for full command output.\u001b[0m\n",
            "Hit:1 https://cloud.r-project.org/bin/linux/ubuntu bionic-cran40/ InRelease\n",
            "Ign:2 https://developer.download.nvidia.com/compute/cuda/repos/ubuntu1804/x86_64  InRelease\n",
            "Ign:3 https://developer.download.nvidia.com/compute/machine-learning/repos/ubuntu1804/x86_64  InRelease\n",
            "Hit:4 https://developer.download.nvidia.com/compute/cuda/repos/ubuntu1804/x86_64  Release\n",
            "Hit:5 https://developer.download.nvidia.com/compute/machine-learning/repos/ubuntu1804/x86_64  Release\n",
            "Get:6 http://security.ubuntu.com/ubuntu bionic-security InRelease [88.7 kB]\n",
            "Get:7 http://ppa.launchpad.net/c2d4u.team/c2d4u4.0+/ubuntu bionic InRelease [15.9 kB]\n",
            "Hit:8 http://archive.ubuntu.com/ubuntu bionic InRelease\n",
            "Get:9 http://archive.ubuntu.com/ubuntu bionic-updates InRelease [88.7 kB]\n",
            "Hit:11 http://ppa.launchpad.net/cran/libgit2/ubuntu bionic InRelease\n",
            "Get:13 http://archive.ubuntu.com/ubuntu bionic-backports InRelease [74.6 kB]\n",
            "Hit:14 http://ppa.launchpad.net/graphics-drivers/ppa/ubuntu bionic InRelease\n",
            "Get:15 http://ppa.launchpad.net/c2d4u.team/c2d4u4.0+/ubuntu bionic/main amd64 Packages [878 kB]\n",
            "Get:16 http://archive.ubuntu.com/ubuntu bionic-updates/universe amd64 Packages [2,151 kB]\n",
            "Get:17 http://archive.ubuntu.com/ubuntu bionic-updates/main amd64 Packages [2,321 kB]\n",
            "Fetched 5,618 kB in 4s (1,510 kB/s)\n",
            "Reading package lists... Done\n",
            "Reading package lists... Done\n",
            "Building dependency tree       \n",
            "Reading state information... Done\n",
            "chromium-chromedriver is already the newest version (87.0.4280.66-0ubuntu0.18.04.1).\n",
            "0 upgraded, 0 newly installed, 0 to remove and 22 not upgraded.\n",
            "cp: '/usr/lib/chromium-browser/chromedriver' and '/usr/bin/chromedriver' are the same file\n"
          ],
          "name": "stdout"
        },
        {
          "output_type": "stream",
          "text": [
            "/usr/local/lib/python3.6/dist-packages/ipykernel_launcher.py:13: DeprecationWarning: use options instead of chrome_options\n",
            "  del sys.path[0]\n"
          ],
          "name": "stderr"
        }
      ]
    },
    {
      "cell_type": "code",
      "metadata": {
        "id": "LixnQwfAZI-L"
      },
      "source": [
        "url=\"https://www.naukri.com/data-analyst-jobs-in-bangalore?k=data%20analyst&l=bangalore\""
      ],
      "execution_count": 244,
      "outputs": []
    },
    {
      "cell_type": "code",
      "metadata": {
        "id": "oppn9_LnZ5I-"
      },
      "source": [
        "driver.get(url)"
      ],
      "execution_count": 245,
      "outputs": []
    },
    {
      "cell_type": "code",
      "metadata": {
        "id": "Ov2ELdOyZ8CO"
      },
      "source": [
        "job_titles=[]\r\n",
        "company_names=[]\r\n",
        "locations_Banglore=[]\r\n",
        "experience_required=[]"
      ],
      "execution_count": 246,
      "outputs": []
    },
    {
      "cell_type": "code",
      "metadata": {
        "colab": {
          "base_uri": "https://localhost:8080/"
        },
        "id": "gZIY6t4ha7Jx",
        "outputId": "5cc45774-7aca-4406-d86a-7233aa2d908c"
      },
      "source": [
        "#to extract job title\r\n",
        "\r\n",
        "titles_tags=driver.find_elements_by_xpath(\"//a[@class='title fw500 ellipsis']\")\r\n",
        "titles_tags[0:10]"
      ],
      "execution_count": 247,
      "outputs": [
        {
          "output_type": "execute_result",
          "data": {
            "text/plain": [
              "[<selenium.webdriver.remote.webelement.WebElement (session=\"20b41ba513c230ae5d6230e50add23b8\", element=\"b7184985-df85-4e8e-a9dd-9f0433ae9b85\")>,\n",
              " <selenium.webdriver.remote.webelement.WebElement (session=\"20b41ba513c230ae5d6230e50add23b8\", element=\"2923b135-678c-4e12-b3b5-8c0335174e63\")>,\n",
              " <selenium.webdriver.remote.webelement.WebElement (session=\"20b41ba513c230ae5d6230e50add23b8\", element=\"435be1ee-c7b3-4bcc-adbf-a751dee444d6\")>,\n",
              " <selenium.webdriver.remote.webelement.WebElement (session=\"20b41ba513c230ae5d6230e50add23b8\", element=\"580d7382-94f9-468d-a4c3-b3e26ad016ca\")>,\n",
              " <selenium.webdriver.remote.webelement.WebElement (session=\"20b41ba513c230ae5d6230e50add23b8\", element=\"5f451a30-5667-4ac6-945b-3ea774a1a800\")>,\n",
              " <selenium.webdriver.remote.webelement.WebElement (session=\"20b41ba513c230ae5d6230e50add23b8\", element=\"10a6e449-e841-4948-af31-bf6191cb7c04\")>,\n",
              " <selenium.webdriver.remote.webelement.WebElement (session=\"20b41ba513c230ae5d6230e50add23b8\", element=\"d1a57693-401a-4efb-a9fe-3056da886d4d\")>,\n",
              " <selenium.webdriver.remote.webelement.WebElement (session=\"20b41ba513c230ae5d6230e50add23b8\", element=\"9bf9270c-acd7-42f1-be22-fd81c8ca91d7\")>,\n",
              " <selenium.webdriver.remote.webelement.WebElement (session=\"20b41ba513c230ae5d6230e50add23b8\", element=\"03acce26-bfb4-4e1c-9aff-977541cf1971\")>,\n",
              " <selenium.webdriver.remote.webelement.WebElement (session=\"20b41ba513c230ae5d6230e50add23b8\", element=\"088900e6-8fd0-415d-83aa-518de825916c\")>]"
            ]
          },
          "metadata": {
            "tags": []
          },
          "execution_count": 247
        }
      ]
    },
    {
      "cell_type": "code",
      "metadata": {
        "colab": {
          "base_uri": "https://localhost:8080/"
        },
        "id": "Ham084drbCP7",
        "outputId": "363e785e-809e-4ab6-e799-93f68361d728"
      },
      "source": [
        "for i in titles_tags:\r\n",
        "    title=i.text\r\n",
        "    job_titles.append(title)\r\n",
        "job_titles[0:10]"
      ],
      "execution_count": 248,
      "outputs": [
        {
          "output_type": "execute_result",
          "data": {
            "text/plain": [
              "['Data Scientist/Data Analyst-immediate',\n",
              " 'Immediate openings For MIS executive /Data analyst For Bangalore',\n",
              " 'Data Analyst',\n",
              " 'Data Analyst',\n",
              " 'Data Analyst',\n",
              " 'Data Analyst',\n",
              " 'Procurement Data Analyst ( 0.6 To 3 Yrs, Bangalore)',\n",
              " 'ID&A - Data Analyst - Informatica MDM',\n",
              " 'Data Analyst',\n",
              " 'Data Analyst']"
            ]
          },
          "metadata": {
            "tags": []
          },
          "execution_count": 248
        }
      ]
    },
    {
      "cell_type": "code",
      "metadata": {
        "colab": {
          "base_uri": "https://localhost:8080/"
        },
        "id": "pzOAWqWjbFxS",
        "outputId": "c5653bb7-1295-405a-825f-b588a802fe2d"
      },
      "source": [
        "companies_tags=driver.find_elements_by_xpath(\"//a[@class='subTitle ellipsis fleft']\")\r\n",
        "companies_tags[0:10]\r\n",
        "                                             "
      ],
      "execution_count": 249,
      "outputs": [
        {
          "output_type": "execute_result",
          "data": {
            "text/plain": [
              "[<selenium.webdriver.remote.webelement.WebElement (session=\"20b41ba513c230ae5d6230e50add23b8\", element=\"6569e9a0-f7e3-419f-82bc-aff74638323b\")>,\n",
              " <selenium.webdriver.remote.webelement.WebElement (session=\"20b41ba513c230ae5d6230e50add23b8\", element=\"193809f6-a4e1-4289-ab51-4e87d7a40d3b\")>,\n",
              " <selenium.webdriver.remote.webelement.WebElement (session=\"20b41ba513c230ae5d6230e50add23b8\", element=\"a585b828-ac5f-43af-b2a8-a09f112970ee\")>,\n",
              " <selenium.webdriver.remote.webelement.WebElement (session=\"20b41ba513c230ae5d6230e50add23b8\", element=\"24753df1-8ef6-4c7c-bd73-61c24fd4ec3f\")>,\n",
              " <selenium.webdriver.remote.webelement.WebElement (session=\"20b41ba513c230ae5d6230e50add23b8\", element=\"1fa7d592-3006-4448-a811-c8fb9fac09f4\")>,\n",
              " <selenium.webdriver.remote.webelement.WebElement (session=\"20b41ba513c230ae5d6230e50add23b8\", element=\"77114f0a-0d59-4131-8346-a909eca39791\")>,\n",
              " <selenium.webdriver.remote.webelement.WebElement (session=\"20b41ba513c230ae5d6230e50add23b8\", element=\"d484890e-c3cb-4c74-9d5e-3e3865600f0c\")>,\n",
              " <selenium.webdriver.remote.webelement.WebElement (session=\"20b41ba513c230ae5d6230e50add23b8\", element=\"d428c84d-e62f-4be3-8711-d2ebd9820bc5\")>,\n",
              " <selenium.webdriver.remote.webelement.WebElement (session=\"20b41ba513c230ae5d6230e50add23b8\", element=\"905376c5-1b39-421f-93b7-36ecde5bd19d\")>,\n",
              " <selenium.webdriver.remote.webelement.WebElement (session=\"20b41ba513c230ae5d6230e50add23b8\", element=\"253a1f07-f035-4e9f-9b12-25031e2449b7\")>]"
            ]
          },
          "metadata": {
            "tags": []
          },
          "execution_count": 249
        }
      ]
    },
    {
      "cell_type": "code",
      "metadata": {
        "colab": {
          "base_uri": "https://localhost:8080/"
        },
        "id": "hZBrZUkxbJAT",
        "outputId": "15627297-7722-41b6-f121-bf15ab90a91c"
      },
      "source": [
        "  for i in companies_tags:\r\n",
        "    company_name=i.text\r\n",
        "    company_names.append(company_name)\r\n",
        "company_names[0:10]"
      ],
      "execution_count": 250,
      "outputs": [
        {
          "output_type": "execute_result",
          "data": {
            "text/plain": [
              "['CAIA-Center For Artificial Intelligence & Advanced Analytics',\n",
              " 'RANDSTAD INDIA PVT LTD',\n",
              " 'Applied Materials',\n",
              " 'Cognizant Technology Solutions India Pvt Ltd',\n",
              " 'St. John’s Research Institute',\n",
              " 'Siemens Limited',\n",
              " 'Sunstream Global Technologies LLP',\n",
              " 'Shell India Markets Private Limited',\n",
              " 'GlaxoSmithKline Pharmaceuticals Limited',\n",
              " 'Cognizant Technology Solutions India Pvt Ltd']"
            ]
          },
          "metadata": {
            "tags": []
          },
          "execution_count": 250
        }
      ]
    },
    {
      "cell_type": "code",
      "metadata": {
        "colab": {
          "base_uri": "https://localhost:8080/"
        },
        "id": "Ss6gfRosbLmu",
        "outputId": "68725d23-6105-46d7-c9c5-2298fd9bd973"
      },
      "source": [
        "experience_tags=driver.find_elements_by_xpath(\"//li[@class='fleft grey-text br2 placeHolderLi experience']/span[1]\")\r\n",
        "experience_tags[0:10]"
      ],
      "execution_count": 251,
      "outputs": [
        {
          "output_type": "execute_result",
          "data": {
            "text/plain": [
              "[<selenium.webdriver.remote.webelement.WebElement (session=\"20b41ba513c230ae5d6230e50add23b8\", element=\"f1588699-6acb-4d23-a91d-c6667dbcf78a\")>,\n",
              " <selenium.webdriver.remote.webelement.WebElement (session=\"20b41ba513c230ae5d6230e50add23b8\", element=\"62589bae-df64-459e-a451-3e4f21b6d325\")>,\n",
              " <selenium.webdriver.remote.webelement.WebElement (session=\"20b41ba513c230ae5d6230e50add23b8\", element=\"e22fae57-5d38-4b91-841c-a4811599adeb\")>,\n",
              " <selenium.webdriver.remote.webelement.WebElement (session=\"20b41ba513c230ae5d6230e50add23b8\", element=\"724dbec8-50f8-42a4-86e8-cb8bbe2de91a\")>,\n",
              " <selenium.webdriver.remote.webelement.WebElement (session=\"20b41ba513c230ae5d6230e50add23b8\", element=\"49fa59df-e8f3-4345-a64a-745c618bbdf0\")>,\n",
              " <selenium.webdriver.remote.webelement.WebElement (session=\"20b41ba513c230ae5d6230e50add23b8\", element=\"55347996-223e-4eaa-93e9-afe31250d5b9\")>,\n",
              " <selenium.webdriver.remote.webelement.WebElement (session=\"20b41ba513c230ae5d6230e50add23b8\", element=\"20a3ea87-2b56-476d-ba77-b076e681de0a\")>,\n",
              " <selenium.webdriver.remote.webelement.WebElement (session=\"20b41ba513c230ae5d6230e50add23b8\", element=\"42a22235-2865-41c3-bd7a-059f0ee09a8a\")>,\n",
              " <selenium.webdriver.remote.webelement.WebElement (session=\"20b41ba513c230ae5d6230e50add23b8\", element=\"e636d10d-2a06-443e-bad0-7ee49474e687\")>,\n",
              " <selenium.webdriver.remote.webelement.WebElement (session=\"20b41ba513c230ae5d6230e50add23b8\", element=\"f05b0c9d-dbf1-4f95-9136-a798ccd50478\")>]"
            ]
          },
          "metadata": {
            "tags": []
          },
          "execution_count": 251
        }
      ]
    },
    {
      "cell_type": "code",
      "metadata": {
        "colab": {
          "base_uri": "https://localhost:8080/"
        },
        "id": "uoQTOtwUbPHC",
        "outputId": "831972fa-19ac-4854-ad14-1cb8d38ffab7"
      },
      "source": [
        " for i in experience_tags:\r\n",
        "    experience_year=i.text\r\n",
        "    experience_required.append(experience_year)\r\n",
        "experience_required[0:10]"
      ],
      "execution_count": 252,
      "outputs": [
        {
          "output_type": "execute_result",
          "data": {
            "text/plain": [
              "['0-3 Yrs',\n",
              " '3-8 Yrs',\n",
              " '6-11 Yrs',\n",
              " '2-3 Yrs',\n",
              " '0-4 Yrs',\n",
              " '0-3 Yrs',\n",
              " '0-3 Yrs',\n",
              " '6-9 Yrs',\n",
              " '2-7 Yrs',\n",
              " '3-4 Yrs']"
            ]
          },
          "metadata": {
            "tags": []
          },
          "execution_count": 252
        }
      ]
    },
    {
      "cell_type": "code",
      "metadata": {
        "colab": {
          "base_uri": "https://localhost:8080/"
        },
        "id": "DPzfk-pebR3s",
        "outputId": "3f8b8328-f9d2-45fe-fe1e-4cd1c0ea3028"
      },
      "source": [
        "locations_tags=driver.find_elements_by_xpath(\"//li[@class='fleft grey-text br2 placeHolderLi location']/span\")\r\n",
        "locations_tags[0:10]"
      ],
      "execution_count": 253,
      "outputs": [
        {
          "output_type": "execute_result",
          "data": {
            "text/plain": [
              "[<selenium.webdriver.remote.webelement.WebElement (session=\"20b41ba513c230ae5d6230e50add23b8\", element=\"a330b382-5a57-42e8-80b4-f4240ba23cba\")>,\n",
              " <selenium.webdriver.remote.webelement.WebElement (session=\"20b41ba513c230ae5d6230e50add23b8\", element=\"93b87b1b-5159-40c6-8f77-04174b22e8a6\")>,\n",
              " <selenium.webdriver.remote.webelement.WebElement (session=\"20b41ba513c230ae5d6230e50add23b8\", element=\"49f60d03-c31a-4934-8281-52940888d28b\")>,\n",
              " <selenium.webdriver.remote.webelement.WebElement (session=\"20b41ba513c230ae5d6230e50add23b8\", element=\"376608be-6089-463d-9e22-05f8eed8a4c8\")>,\n",
              " <selenium.webdriver.remote.webelement.WebElement (session=\"20b41ba513c230ae5d6230e50add23b8\", element=\"3ed689ee-eed5-4f95-93a8-0fd4b4f7a57b\")>,\n",
              " <selenium.webdriver.remote.webelement.WebElement (session=\"20b41ba513c230ae5d6230e50add23b8\", element=\"6286c786-8df7-4566-9b0b-1c88c3c59185\")>,\n",
              " <selenium.webdriver.remote.webelement.WebElement (session=\"20b41ba513c230ae5d6230e50add23b8\", element=\"b6c4e2f6-3b37-44af-8d6e-b71a920370a9\")>,\n",
              " <selenium.webdriver.remote.webelement.WebElement (session=\"20b41ba513c230ae5d6230e50add23b8\", element=\"597c0c8c-c6a3-45af-aefd-7cdc75b18add\")>,\n",
              " <selenium.webdriver.remote.webelement.WebElement (session=\"20b41ba513c230ae5d6230e50add23b8\", element=\"a665a4f7-a598-4529-8194-b91b35e7a45c\")>,\n",
              " <selenium.webdriver.remote.webelement.WebElement (session=\"20b41ba513c230ae5d6230e50add23b8\", element=\"dcb1edb5-8703-4a42-a0eb-9d7c527cc6ec\")>]"
            ]
          },
          "metadata": {
            "tags": []
          },
          "execution_count": 253
        }
      ]
    },
    {
      "cell_type": "code",
      "metadata": {
        "colab": {
          "base_uri": "https://localhost:8080/"
        },
        "id": "9JeFcjs4b-zc",
        "outputId": "368edb44-7957-45b1-f126-d6def30037d5"
      },
      "source": [
        "for i in locations_tags:\r\n",
        "     locations_list=i.text\r\n",
        "     locations_Banglore.append(locations_list)\r\n",
        "locations_Banglore[0:10]"
      ],
      "execution_count": 254,
      "outputs": [
        {
          "output_type": "execute_result",
          "data": {
            "text/plain": [
              "['Chennai, Pune, Bengaluru, Hyderabad',\n",
              " 'Bengaluru',\n",
              " 'Bengaluru',\n",
              " 'Mumbai, Bengaluru, Hyderabad',\n",
              " 'Bengaluru',\n",
              " 'Bengaluru',\n",
              " 'Bengaluru(Koramangala)',\n",
              " 'Bengaluru',\n",
              " 'Bengaluru',\n",
              " 'Bengaluru, Kolkata']"
            ]
          },
          "metadata": {
            "tags": []
          },
          "execution_count": 254
        }
      ]
    },
    {
      "cell_type": "code",
      "metadata": {
        "colab": {
          "base_uri": "https://localhost:8080/"
        },
        "id": "3ZVvcjBqqL43",
        "outputId": "d33eb266-a7bc-4034-cffe-3413b18813fd"
      },
      "source": [
        "print(len(job_titles),len(company_names),len(experience_required),len(locations_Banglore))"
      ],
      "execution_count": 255,
      "outputs": [
        {
          "output_type": "stream",
          "text": [
            "20 20 20 20\n"
          ],
          "name": "stdout"
        }
      ]
    },
    {
      "cell_type": "code",
      "metadata": {
        "id": "0RVE0WlLrxBr"
      },
      "source": [
        "import pandas as pd\r\n",
        "jobs=pd.DataFrame({})\r\n",
        "jobs['titles']=job_titles\r\n",
        "jobs['company']=company_names\r\n",
        "jobs['experience_required']=experience_required\r\n",
        "jobs['location']=locations_Banglore"
      ],
      "execution_count": 256,
      "outputs": []
    },
    {
      "cell_type": "code",
      "metadata": {
        "colab": {
          "base_uri": "https://localhost:8080/",
          "height": 348
        },
        "id": "ER9zYO-hsHnx",
        "outputId": "f164bb0e-72e5-41e3-ccfd-31b7bea5b282"
      },
      "source": [
        "jobs[0:10]"
      ],
      "execution_count": 257,
      "outputs": [
        {
          "output_type": "execute_result",
          "data": {
            "text/html": [
              "<div>\n",
              "<style scoped>\n",
              "    .dataframe tbody tr th:only-of-type {\n",
              "        vertical-align: middle;\n",
              "    }\n",
              "\n",
              "    .dataframe tbody tr th {\n",
              "        vertical-align: top;\n",
              "    }\n",
              "\n",
              "    .dataframe thead th {\n",
              "        text-align: right;\n",
              "    }\n",
              "</style>\n",
              "<table border=\"1\" class=\"dataframe\">\n",
              "  <thead>\n",
              "    <tr style=\"text-align: right;\">\n",
              "      <th></th>\n",
              "      <th>titles</th>\n",
              "      <th>company</th>\n",
              "      <th>experience_required</th>\n",
              "      <th>location</th>\n",
              "    </tr>\n",
              "  </thead>\n",
              "  <tbody>\n",
              "    <tr>\n",
              "      <th>0</th>\n",
              "      <td>Data Scientist/Data Analyst-immediate</td>\n",
              "      <td>CAIA-Center For Artificial Intelligence &amp; Adva...</td>\n",
              "      <td>0-3 Yrs</td>\n",
              "      <td>Chennai, Pune, Bengaluru, Hyderabad</td>\n",
              "    </tr>\n",
              "    <tr>\n",
              "      <th>1</th>\n",
              "      <td>Immediate openings For MIS executive /Data ana...</td>\n",
              "      <td>RANDSTAD INDIA PVT LTD</td>\n",
              "      <td>3-8 Yrs</td>\n",
              "      <td>Bengaluru</td>\n",
              "    </tr>\n",
              "    <tr>\n",
              "      <th>2</th>\n",
              "      <td>Data Analyst</td>\n",
              "      <td>Applied Materials</td>\n",
              "      <td>6-11 Yrs</td>\n",
              "      <td>Bengaluru</td>\n",
              "    </tr>\n",
              "    <tr>\n",
              "      <th>3</th>\n",
              "      <td>Data Analyst</td>\n",
              "      <td>Cognizant Technology Solutions India Pvt Ltd</td>\n",
              "      <td>2-3 Yrs</td>\n",
              "      <td>Mumbai, Bengaluru, Hyderabad</td>\n",
              "    </tr>\n",
              "    <tr>\n",
              "      <th>4</th>\n",
              "      <td>Data Analyst</td>\n",
              "      <td>St. John’s Research Institute</td>\n",
              "      <td>0-4 Yrs</td>\n",
              "      <td>Bengaluru</td>\n",
              "    </tr>\n",
              "    <tr>\n",
              "      <th>5</th>\n",
              "      <td>Data Analyst</td>\n",
              "      <td>Siemens Limited</td>\n",
              "      <td>0-3 Yrs</td>\n",
              "      <td>Bengaluru</td>\n",
              "    </tr>\n",
              "    <tr>\n",
              "      <th>6</th>\n",
              "      <td>Procurement Data Analyst ( 0.6 To 3 Yrs, Banga...</td>\n",
              "      <td>Sunstream Global Technologies LLP</td>\n",
              "      <td>0-3 Yrs</td>\n",
              "      <td>Bengaluru(Koramangala)</td>\n",
              "    </tr>\n",
              "    <tr>\n",
              "      <th>7</th>\n",
              "      <td>ID&amp;A - Data Analyst - Informatica MDM</td>\n",
              "      <td>Shell India Markets Private Limited</td>\n",
              "      <td>6-9 Yrs</td>\n",
              "      <td>Bengaluru</td>\n",
              "    </tr>\n",
              "    <tr>\n",
              "      <th>8</th>\n",
              "      <td>Data Analyst</td>\n",
              "      <td>GlaxoSmithKline Pharmaceuticals Limited</td>\n",
              "      <td>2-7 Yrs</td>\n",
              "      <td>Bengaluru</td>\n",
              "    </tr>\n",
              "    <tr>\n",
              "      <th>9</th>\n",
              "      <td>Data Analyst</td>\n",
              "      <td>Cognizant Technology Solutions India Pvt Ltd</td>\n",
              "      <td>3-4 Yrs</td>\n",
              "      <td>Bengaluru, Kolkata</td>\n",
              "    </tr>\n",
              "  </tbody>\n",
              "</table>\n",
              "</div>"
            ],
            "text/plain": [
              "                                              titles  ...                             location\n",
              "0              Data Scientist/Data Analyst-immediate  ...  Chennai, Pune, Bengaluru, Hyderabad\n",
              "1  Immediate openings For MIS executive /Data ana...  ...                            Bengaluru\n",
              "2                                       Data Analyst  ...                            Bengaluru\n",
              "3                                       Data Analyst  ...         Mumbai, Bengaluru, Hyderabad\n",
              "4                                       Data Analyst  ...                            Bengaluru\n",
              "5                                       Data Analyst  ...                            Bengaluru\n",
              "6  Procurement Data Analyst ( 0.6 To 3 Yrs, Banga...  ...               Bengaluru(Koramangala)\n",
              "7              ID&A - Data Analyst - Informatica MDM  ...                            Bengaluru\n",
              "8                                       Data Analyst  ...                            Bengaluru\n",
              "9                                       Data Analyst  ...                   Bengaluru, Kolkata\n",
              "\n",
              "[10 rows x 4 columns]"
            ]
          },
          "metadata": {
            "tags": []
          },
          "execution_count": 257
        }
      ]
    },
    {
      "cell_type": "code",
      "metadata": {
        "id": "beXFZxx8UbBH"
      },
      "source": [
        "url=\"https://www.naukri.com/data-scientist-jobs-in-bangalore?k=data%20scientist&l=bangalore\""
      ],
      "execution_count": 258,
      "outputs": []
    },
    {
      "cell_type": "code",
      "metadata": {
        "id": "RvO9cb46U6Ou"
      },
      "source": [
        "driver.get(url)"
      ],
      "execution_count": 259,
      "outputs": []
    },
    {
      "cell_type": "code",
      "metadata": {
        "id": "L6nA5p1TVKzm"
      },
      "source": [
        "job_titles=[]\r\n",
        "company_names=[]\r\n",
        "locations_Banglore=[]\r\n",
        "fulljob_description=[]"
      ],
      "execution_count": 260,
      "outputs": []
    },
    {
      "cell_type": "code",
      "metadata": {
        "colab": {
          "base_uri": "https://localhost:8080/"
        },
        "id": "uhJRtsJFVtbL",
        "outputId": "fd2dab82-7917-4fe2-b735-e7af8f18d2b9"
      },
      "source": [
        "#to extract job title\r\n",
        "\r\n",
        "titles_tags=driver.find_elements_by_xpath(\"//a[@class='title fw500 ellipsis']\")\r\n",
        "titles_tags[0:10]"
      ],
      "execution_count": 261,
      "outputs": [
        {
          "output_type": "execute_result",
          "data": {
            "text/plain": [
              "[<selenium.webdriver.remote.webelement.WebElement (session=\"20b41ba513c230ae5d6230e50add23b8\", element=\"c7aae1fa-27d4-43d8-bdc0-ae8e32b1700b\")>,\n",
              " <selenium.webdriver.remote.webelement.WebElement (session=\"20b41ba513c230ae5d6230e50add23b8\", element=\"5d02985b-6c7b-48e1-99de-6cbd06a19a92\")>,\n",
              " <selenium.webdriver.remote.webelement.WebElement (session=\"20b41ba513c230ae5d6230e50add23b8\", element=\"e9e426eb-ec8a-4b64-b182-d690d869bf17\")>,\n",
              " <selenium.webdriver.remote.webelement.WebElement (session=\"20b41ba513c230ae5d6230e50add23b8\", element=\"6665b6f2-c66d-4d0a-8b91-54eee2af2a59\")>,\n",
              " <selenium.webdriver.remote.webelement.WebElement (session=\"20b41ba513c230ae5d6230e50add23b8\", element=\"efdb8343-4070-4a11-bb4e-37719314e592\")>,\n",
              " <selenium.webdriver.remote.webelement.WebElement (session=\"20b41ba513c230ae5d6230e50add23b8\", element=\"6cf333d8-ec55-4b6c-96bc-2817dc64621d\")>,\n",
              " <selenium.webdriver.remote.webelement.WebElement (session=\"20b41ba513c230ae5d6230e50add23b8\", element=\"ff6b8239-9f5f-48b5-b44f-afdf7eb3057e\")>,\n",
              " <selenium.webdriver.remote.webelement.WebElement (session=\"20b41ba513c230ae5d6230e50add23b8\", element=\"8e586971-657e-4210-ad16-2eba630678fe\")>,\n",
              " <selenium.webdriver.remote.webelement.WebElement (session=\"20b41ba513c230ae5d6230e50add23b8\", element=\"b2bf39d6-a927-40cd-9c84-d558fd542109\")>,\n",
              " <selenium.webdriver.remote.webelement.WebElement (session=\"20b41ba513c230ae5d6230e50add23b8\", element=\"01297e65-0a6a-456f-93db-694e0915596f\")>]"
            ]
          },
          "metadata": {
            "tags": []
          },
          "execution_count": 261
        }
      ]
    },
    {
      "cell_type": "code",
      "metadata": {
        "colab": {
          "base_uri": "https://localhost:8080/"
        },
        "id": "F2IHWVeqWDe9",
        "outputId": "14e68b79-5dcc-42cd-e88b-adc197a1d2fe"
      },
      "source": [
        "for i in titles_tags:\r\n",
        "    title=i.text\r\n",
        "    job_titles.append(title)\r\n",
        "job_titles[0:10]"
      ],
      "execution_count": 262,
      "outputs": [
        {
          "output_type": "execute_result",
          "data": {
            "text/plain": [
              "['Data Scientist/Data Analyst-immediate',\n",
              " 'HCL hiring Data scientist with exp in machine learning &SQL-Bangalore!',\n",
              " 'Data Scientist - Machine Learning',\n",
              " 'Data Scientist - Machine Learning',\n",
              " 'Data Scientist - Machine Learning',\n",
              " 'Senior Data Scientist',\n",
              " 'Software Developer - Data Scientist / NLP / Machine Learning',\n",
              " 'Data Scientist - Machine Learning - Remote Working',\n",
              " 'Data Scientist',\n",
              " 'Data Scientist (Healthcare/Pharma Domain preferred)']"
            ]
          },
          "metadata": {
            "tags": []
          },
          "execution_count": 262
        }
      ]
    },
    {
      "cell_type": "code",
      "metadata": {
        "colab": {
          "base_uri": "https://localhost:8080/"
        },
        "id": "HcPs31YrWJo-",
        "outputId": "acbaea8a-3dac-4052-cd77-cfe40de7c569"
      },
      "source": [
        "companies_tags=driver.find_elements_by_xpath(\"//a[@class='subTitle ellipsis fleft']\")\r\n",
        "companies_tags[0:10]"
      ],
      "execution_count": 263,
      "outputs": [
        {
          "output_type": "execute_result",
          "data": {
            "text/plain": [
              "[<selenium.webdriver.remote.webelement.WebElement (session=\"20b41ba513c230ae5d6230e50add23b8\", element=\"4a263538-831c-493a-9ab6-7951de8fca3a\")>,\n",
              " <selenium.webdriver.remote.webelement.WebElement (session=\"20b41ba513c230ae5d6230e50add23b8\", element=\"6b435b13-7c85-49a1-bb1c-95ac77b3e685\")>,\n",
              " <selenium.webdriver.remote.webelement.WebElement (session=\"20b41ba513c230ae5d6230e50add23b8\", element=\"f1aeb590-cea9-4bb6-b4af-a6d7e1f7bf96\")>,\n",
              " <selenium.webdriver.remote.webelement.WebElement (session=\"20b41ba513c230ae5d6230e50add23b8\", element=\"d6de999c-5fcd-4b9b-9290-74eb6a6d0423\")>,\n",
              " <selenium.webdriver.remote.webelement.WebElement (session=\"20b41ba513c230ae5d6230e50add23b8\", element=\"a90371ac-2ce9-42c5-831c-889246a0fb1f\")>,\n",
              " <selenium.webdriver.remote.webelement.WebElement (session=\"20b41ba513c230ae5d6230e50add23b8\", element=\"d6aaa1fe-8d2f-433b-a3bd-a1768230d07b\")>,\n",
              " <selenium.webdriver.remote.webelement.WebElement (session=\"20b41ba513c230ae5d6230e50add23b8\", element=\"52a25f7b-40ea-4e2a-a381-83d8820781a0\")>,\n",
              " <selenium.webdriver.remote.webelement.WebElement (session=\"20b41ba513c230ae5d6230e50add23b8\", element=\"f6096d90-fdc6-45a2-9b52-dc6b443127cb\")>,\n",
              " <selenium.webdriver.remote.webelement.WebElement (session=\"20b41ba513c230ae5d6230e50add23b8\", element=\"96aa058f-9aba-43ab-a1e5-577119c1e979\")>,\n",
              " <selenium.webdriver.remote.webelement.WebElement (session=\"20b41ba513c230ae5d6230e50add23b8\", element=\"551846f8-40b4-4579-a9fb-915c77976207\")>]"
            ]
          },
          "metadata": {
            "tags": []
          },
          "execution_count": 263
        }
      ]
    },
    {
      "cell_type": "code",
      "metadata": {
        "colab": {
          "base_uri": "https://localhost:8080/"
        },
        "id": "fb4OGvjBWT5v",
        "outputId": "fc6e1892-d566-45ee-e9dc-85bdcc27e92b"
      },
      "source": [
        " for i in companies_tags:\r\n",
        "    company_name=i.text\r\n",
        "    company_names.append(company_name)\r\n",
        "company_names[0:10]"
      ],
      "execution_count": 264,
      "outputs": [
        {
          "output_type": "execute_result",
          "data": {
            "text/plain": [
              "['CAIA-Center For Artificial Intelligence & Advanced Analytics',\n",
              " 'HCL Technologies Limited',\n",
              " 'AugmatrixGo',\n",
              " 'BLUE YONDER INDIA PRIVATE LIMITED',\n",
              " 'BLUE YONDER INDIA PRIVATE LIMITED',\n",
              " 'Philips India Limited',\n",
              " 'Cunesoft India Private Limited',\n",
              " 'Doji Ltd',\n",
              " 'GENPACT India Private Limited',\n",
              " 'GENPACT India Private Limited']"
            ]
          },
          "metadata": {
            "tags": []
          },
          "execution_count": 264
        }
      ]
    },
    {
      "cell_type": "code",
      "metadata": {
        "colab": {
          "base_uri": "https://localhost:8080/"
        },
        "id": "4fUlemHCWej7",
        "outputId": "7e2d4464-d21a-494d-b6e2-5a1de9700a1a"
      },
      "source": [
        "locations_tags=driver.find_elements_by_xpath(\"//li[@class='fleft grey-text br2 placeHolderLi location']/span\")\r\n",
        "locations_tags[0:10]"
      ],
      "execution_count": 270,
      "outputs": [
        {
          "output_type": "execute_result",
          "data": {
            "text/plain": [
              "[<selenium.webdriver.remote.webelement.WebElement (session=\"20b41ba513c230ae5d6230e50add23b8\", element=\"aaa9db25-28d6-42c1-b72c-7a85b1652a6e\")>,\n",
              " <selenium.webdriver.remote.webelement.WebElement (session=\"20b41ba513c230ae5d6230e50add23b8\", element=\"cfb483e1-81af-4a30-be82-a9e5a759f3b0\")>,\n",
              " <selenium.webdriver.remote.webelement.WebElement (session=\"20b41ba513c230ae5d6230e50add23b8\", element=\"99507bb0-f964-478d-801d-09d46d85d432\")>,\n",
              " <selenium.webdriver.remote.webelement.WebElement (session=\"20b41ba513c230ae5d6230e50add23b8\", element=\"efd924dd-71ab-4686-8a28-d871a4e5300f\")>,\n",
              " <selenium.webdriver.remote.webelement.WebElement (session=\"20b41ba513c230ae5d6230e50add23b8\", element=\"359e6a63-0bda-40c2-a5a9-975f10c68e6a\")>,\n",
              " <selenium.webdriver.remote.webelement.WebElement (session=\"20b41ba513c230ae5d6230e50add23b8\", element=\"d9a6229d-c8bd-4744-9063-00f5d2b5c409\")>,\n",
              " <selenium.webdriver.remote.webelement.WebElement (session=\"20b41ba513c230ae5d6230e50add23b8\", element=\"6129fb7a-aa28-4f11-81f0-0c8113f275a3\")>,\n",
              " <selenium.webdriver.remote.webelement.WebElement (session=\"20b41ba513c230ae5d6230e50add23b8\", element=\"bc6efecf-67a0-410f-8caa-fca7e271ea64\")>,\n",
              " <selenium.webdriver.remote.webelement.WebElement (session=\"20b41ba513c230ae5d6230e50add23b8\", element=\"a49208e4-b05d-49ff-8635-3dd81fcb42da\")>,\n",
              " <selenium.webdriver.remote.webelement.WebElement (session=\"20b41ba513c230ae5d6230e50add23b8\", element=\"9a2ee25f-c331-4c03-90af-929b681e4229\")>]"
            ]
          },
          "metadata": {
            "tags": []
          },
          "execution_count": 270
        }
      ]
    },
    {
      "cell_type": "code",
      "metadata": {
        "colab": {
          "base_uri": "https://localhost:8080/"
        },
        "id": "9tpAqndLaNbZ",
        "outputId": "2e8803b9-c1ba-4546-b4d0-5ce1f5407130"
      },
      "source": [
        "for i in locations_tags:\r\n",
        "     locations_list=i.text\r\n",
        "     locations_Banglore.append(locations_list)\r\n",
        "locations_Banglore[0:10]"
      ],
      "execution_count": 271,
      "outputs": [
        {
          "output_type": "execute_result",
          "data": {
            "text/plain": [
              "['Chennai, Pune, Bengaluru, Hyderabad',\n",
              " 'Bengaluru',\n",
              " 'Bengaluru',\n",
              " 'Bengaluru',\n",
              " 'Bengaluru',\n",
              " 'Bengaluru',\n",
              " 'Bengaluru / Bangalore',\n",
              " 'Delhi NCR, Bengaluru, Anywhere in India',\n",
              " 'Bengaluru',\n",
              " 'Bengaluru']"
            ]
          },
          "metadata": {
            "tags": []
          },
          "execution_count": 271
        }
      ]
    },
    {
      "cell_type": "code",
      "metadata": {
        "colab": {
          "base_uri": "https://localhost:8080/"
        },
        "id": "t6tQ6UbCajfz",
        "outputId": "7c904273-b316-4fde-e1db-456a395f39df"
      },
      "source": [
        "fulljob_tags=driver.find_elements_by_xpath(\"//a[@class='dang-inner-html']\")\r\n",
        "fulljob_tags[0:10]"
      ],
      "execution_count": 324,
      "outputs": [
        {
          "output_type": "execute_result",
          "data": {
            "text/plain": [
              "[]"
            ]
          },
          "metadata": {
            "tags": []
          },
          "execution_count": 324
        }
      ]
    },
    {
      "cell_type": "code",
      "metadata": {
        "colab": {
          "base_uri": "https://localhost:8080/"
        },
        "id": "xDmSk1E8ZogL",
        "outputId": "0cf43461-24e2-463a-e4d0-43e0e76c8223"
      },
      "source": [
        "print(len(job_titles),len(company_names),len(fulljob_description),len(locations_Banglore))"
      ],
      "execution_count": 272,
      "outputs": [
        {
          "output_type": "stream",
          "text": [
            "20 20 0 40\n"
          ],
          "name": "stdout"
        }
      ]
    },
    {
      "cell_type": "code",
      "metadata": {
        "colab": {
          "base_uri": "https://localhost:8080/",
          "height": 376
        },
        "id": "UAfwRIFEamoc",
        "outputId": "e60bb770-e5ec-4093-c99b-45cb93783245"
      },
      "source": [
        "import pandas as pd\r\n",
        "jobs=pd.DataFrame({})\r\n",
        "jobs['titles']=job_titles\r\n",
        "jobs['company']=company_names\r\n",
        "jobs['fulljob_description']=fulljob_description\r\n",
        "jobs['location']=locations_Banglore"
      ],
      "execution_count": 273,
      "outputs": [
        {
          "output_type": "error",
          "ename": "ValueError",
          "evalue": "ignored",
          "traceback": [
            "\u001b[0;31m---------------------------------------------------------------------------\u001b[0m",
            "\u001b[0;31mValueError\u001b[0m                                Traceback (most recent call last)",
            "\u001b[0;32m<ipython-input-273-854ff0c78892>\u001b[0m in \u001b[0;36m<module>\u001b[0;34m()\u001b[0m\n\u001b[1;32m      3\u001b[0m \u001b[0mjobs\u001b[0m\u001b[0;34m[\u001b[0m\u001b[0;34m'titles'\u001b[0m\u001b[0;34m]\u001b[0m\u001b[0;34m=\u001b[0m\u001b[0mjob_titles\u001b[0m\u001b[0;34m\u001b[0m\u001b[0;34m\u001b[0m\u001b[0m\n\u001b[1;32m      4\u001b[0m \u001b[0mjobs\u001b[0m\u001b[0;34m[\u001b[0m\u001b[0;34m'company'\u001b[0m\u001b[0;34m]\u001b[0m\u001b[0;34m=\u001b[0m\u001b[0mcompany_names\u001b[0m\u001b[0;34m\u001b[0m\u001b[0;34m\u001b[0m\u001b[0m\n\u001b[0;32m----> 5\u001b[0;31m \u001b[0mjobs\u001b[0m\u001b[0;34m[\u001b[0m\u001b[0;34m'fulljob_description'\u001b[0m\u001b[0;34m]\u001b[0m\u001b[0;34m=\u001b[0m\u001b[0mfulljob_description\u001b[0m\u001b[0;34m\u001b[0m\u001b[0;34m\u001b[0m\u001b[0m\n\u001b[0m\u001b[1;32m      6\u001b[0m \u001b[0mjobs\u001b[0m\u001b[0;34m[\u001b[0m\u001b[0;34m'location'\u001b[0m\u001b[0;34m]\u001b[0m\u001b[0;34m=\u001b[0m\u001b[0mlocations_Banglore\u001b[0m\u001b[0;34m\u001b[0m\u001b[0;34m\u001b[0m\u001b[0m\n",
            "\u001b[0;32m/usr/local/lib/python3.6/dist-packages/pandas/core/frame.py\u001b[0m in \u001b[0;36m__setitem__\u001b[0;34m(self, key, value)\u001b[0m\n\u001b[1;32m   3042\u001b[0m         \u001b[0;32melse\u001b[0m\u001b[0;34m:\u001b[0m\u001b[0;34m\u001b[0m\u001b[0;34m\u001b[0m\u001b[0m\n\u001b[1;32m   3043\u001b[0m             \u001b[0;31m# set column\u001b[0m\u001b[0;34m\u001b[0m\u001b[0;34m\u001b[0m\u001b[0;34m\u001b[0m\u001b[0m\n\u001b[0;32m-> 3044\u001b[0;31m             \u001b[0mself\u001b[0m\u001b[0;34m.\u001b[0m\u001b[0m_set_item\u001b[0m\u001b[0;34m(\u001b[0m\u001b[0mkey\u001b[0m\u001b[0;34m,\u001b[0m \u001b[0mvalue\u001b[0m\u001b[0;34m)\u001b[0m\u001b[0;34m\u001b[0m\u001b[0;34m\u001b[0m\u001b[0m\n\u001b[0m\u001b[1;32m   3045\u001b[0m \u001b[0;34m\u001b[0m\u001b[0m\n\u001b[1;32m   3046\u001b[0m     \u001b[0;32mdef\u001b[0m \u001b[0m_setitem_slice\u001b[0m\u001b[0;34m(\u001b[0m\u001b[0mself\u001b[0m\u001b[0;34m,\u001b[0m \u001b[0mkey\u001b[0m\u001b[0;34m:\u001b[0m \u001b[0mslice\u001b[0m\u001b[0;34m,\u001b[0m \u001b[0mvalue\u001b[0m\u001b[0;34m)\u001b[0m\u001b[0;34m:\u001b[0m\u001b[0;34m\u001b[0m\u001b[0;34m\u001b[0m\u001b[0m\n",
            "\u001b[0;32m/usr/local/lib/python3.6/dist-packages/pandas/core/frame.py\u001b[0m in \u001b[0;36m_set_item\u001b[0;34m(self, key, value)\u001b[0m\n\u001b[1;32m   3118\u001b[0m         \"\"\"\n\u001b[1;32m   3119\u001b[0m         \u001b[0mself\u001b[0m\u001b[0;34m.\u001b[0m\u001b[0m_ensure_valid_index\u001b[0m\u001b[0;34m(\u001b[0m\u001b[0mvalue\u001b[0m\u001b[0;34m)\u001b[0m\u001b[0;34m\u001b[0m\u001b[0;34m\u001b[0m\u001b[0m\n\u001b[0;32m-> 3120\u001b[0;31m         \u001b[0mvalue\u001b[0m \u001b[0;34m=\u001b[0m \u001b[0mself\u001b[0m\u001b[0;34m.\u001b[0m\u001b[0m_sanitize_column\u001b[0m\u001b[0;34m(\u001b[0m\u001b[0mkey\u001b[0m\u001b[0;34m,\u001b[0m \u001b[0mvalue\u001b[0m\u001b[0;34m)\u001b[0m\u001b[0;34m\u001b[0m\u001b[0;34m\u001b[0m\u001b[0m\n\u001b[0m\u001b[1;32m   3121\u001b[0m         \u001b[0mNDFrame\u001b[0m\u001b[0;34m.\u001b[0m\u001b[0m_set_item\u001b[0m\u001b[0;34m(\u001b[0m\u001b[0mself\u001b[0m\u001b[0;34m,\u001b[0m \u001b[0mkey\u001b[0m\u001b[0;34m,\u001b[0m \u001b[0mvalue\u001b[0m\u001b[0;34m)\u001b[0m\u001b[0;34m\u001b[0m\u001b[0;34m\u001b[0m\u001b[0m\n\u001b[1;32m   3122\u001b[0m \u001b[0;34m\u001b[0m\u001b[0m\n",
            "\u001b[0;32m/usr/local/lib/python3.6/dist-packages/pandas/core/frame.py\u001b[0m in \u001b[0;36m_sanitize_column\u001b[0;34m(self, key, value, broadcast)\u001b[0m\n\u001b[1;32m   3766\u001b[0m \u001b[0;34m\u001b[0m\u001b[0m\n\u001b[1;32m   3767\u001b[0m             \u001b[0;31m# turn me into an ndarray\u001b[0m\u001b[0;34m\u001b[0m\u001b[0;34m\u001b[0m\u001b[0;34m\u001b[0m\u001b[0m\n\u001b[0;32m-> 3768\u001b[0;31m             \u001b[0mvalue\u001b[0m \u001b[0;34m=\u001b[0m \u001b[0msanitize_index\u001b[0m\u001b[0;34m(\u001b[0m\u001b[0mvalue\u001b[0m\u001b[0;34m,\u001b[0m \u001b[0mself\u001b[0m\u001b[0;34m.\u001b[0m\u001b[0mindex\u001b[0m\u001b[0;34m)\u001b[0m\u001b[0;34m\u001b[0m\u001b[0;34m\u001b[0m\u001b[0m\n\u001b[0m\u001b[1;32m   3769\u001b[0m             \u001b[0;32mif\u001b[0m \u001b[0;32mnot\u001b[0m \u001b[0misinstance\u001b[0m\u001b[0;34m(\u001b[0m\u001b[0mvalue\u001b[0m\u001b[0;34m,\u001b[0m \u001b[0;34m(\u001b[0m\u001b[0mnp\u001b[0m\u001b[0;34m.\u001b[0m\u001b[0mndarray\u001b[0m\u001b[0;34m,\u001b[0m \u001b[0mIndex\u001b[0m\u001b[0;34m)\u001b[0m\u001b[0;34m)\u001b[0m\u001b[0;34m:\u001b[0m\u001b[0;34m\u001b[0m\u001b[0;34m\u001b[0m\u001b[0m\n\u001b[1;32m   3770\u001b[0m                 \u001b[0;32mif\u001b[0m \u001b[0misinstance\u001b[0m\u001b[0;34m(\u001b[0m\u001b[0mvalue\u001b[0m\u001b[0;34m,\u001b[0m \u001b[0mlist\u001b[0m\u001b[0;34m)\u001b[0m \u001b[0;32mand\u001b[0m \u001b[0mlen\u001b[0m\u001b[0;34m(\u001b[0m\u001b[0mvalue\u001b[0m\u001b[0;34m)\u001b[0m \u001b[0;34m>\u001b[0m \u001b[0;36m0\u001b[0m\u001b[0;34m:\u001b[0m\u001b[0;34m\u001b[0m\u001b[0;34m\u001b[0m\u001b[0m\n",
            "\u001b[0;32m/usr/local/lib/python3.6/dist-packages/pandas/core/internals/construction.py\u001b[0m in \u001b[0;36msanitize_index\u001b[0;34m(data, index)\u001b[0m\n\u001b[1;32m    746\u001b[0m     \u001b[0;32mif\u001b[0m \u001b[0mlen\u001b[0m\u001b[0;34m(\u001b[0m\u001b[0mdata\u001b[0m\u001b[0;34m)\u001b[0m \u001b[0;34m!=\u001b[0m \u001b[0mlen\u001b[0m\u001b[0;34m(\u001b[0m\u001b[0mindex\u001b[0m\u001b[0;34m)\u001b[0m\u001b[0;34m:\u001b[0m\u001b[0;34m\u001b[0m\u001b[0;34m\u001b[0m\u001b[0m\n\u001b[1;32m    747\u001b[0m         raise ValueError(\n\u001b[0;32m--> 748\u001b[0;31m             \u001b[0;34m\"Length of values \"\u001b[0m\u001b[0;34m\u001b[0m\u001b[0;34m\u001b[0m\u001b[0m\n\u001b[0m\u001b[1;32m    749\u001b[0m             \u001b[0;34mf\"({len(data)}) \"\u001b[0m\u001b[0;34m\u001b[0m\u001b[0;34m\u001b[0m\u001b[0m\n\u001b[1;32m    750\u001b[0m             \u001b[0;34m\"does not match length of index \"\u001b[0m\u001b[0;34m\u001b[0m\u001b[0;34m\u001b[0m\u001b[0m\n",
            "\u001b[0;31mValueError\u001b[0m: Length of values (0) does not match length of index (20)"
          ]
        }
      ]
    },
    {
      "cell_type": "code",
      "metadata": {
        "colab": {
          "base_uri": "https://localhost:8080/",
          "height": 348
        },
        "id": "HbDKuEwlcGTT",
        "outputId": "9e79532e-d2b2-4e41-af31-8a9938973f37"
      },
      "source": [
        "jobs[0:10]"
      ],
      "execution_count": 274,
      "outputs": [
        {
          "output_type": "execute_result",
          "data": {
            "text/html": [
              "<div>\n",
              "<style scoped>\n",
              "    .dataframe tbody tr th:only-of-type {\n",
              "        vertical-align: middle;\n",
              "    }\n",
              "\n",
              "    .dataframe tbody tr th {\n",
              "        vertical-align: top;\n",
              "    }\n",
              "\n",
              "    .dataframe thead th {\n",
              "        text-align: right;\n",
              "    }\n",
              "</style>\n",
              "<table border=\"1\" class=\"dataframe\">\n",
              "  <thead>\n",
              "    <tr style=\"text-align: right;\">\n",
              "      <th></th>\n",
              "      <th>titles</th>\n",
              "      <th>company</th>\n",
              "    </tr>\n",
              "  </thead>\n",
              "  <tbody>\n",
              "    <tr>\n",
              "      <th>0</th>\n",
              "      <td>Data Scientist/Data Analyst-immediate</td>\n",
              "      <td>CAIA-Center For Artificial Intelligence &amp; Adva...</td>\n",
              "    </tr>\n",
              "    <tr>\n",
              "      <th>1</th>\n",
              "      <td>HCL hiring Data scientist with exp in machine ...</td>\n",
              "      <td>HCL Technologies Limited</td>\n",
              "    </tr>\n",
              "    <tr>\n",
              "      <th>2</th>\n",
              "      <td>Data Scientist - Machine Learning</td>\n",
              "      <td>AugmatrixGo</td>\n",
              "    </tr>\n",
              "    <tr>\n",
              "      <th>3</th>\n",
              "      <td>Data Scientist - Machine Learning</td>\n",
              "      <td>BLUE YONDER INDIA PRIVATE LIMITED</td>\n",
              "    </tr>\n",
              "    <tr>\n",
              "      <th>4</th>\n",
              "      <td>Data Scientist - Machine Learning</td>\n",
              "      <td>BLUE YONDER INDIA PRIVATE LIMITED</td>\n",
              "    </tr>\n",
              "    <tr>\n",
              "      <th>5</th>\n",
              "      <td>Senior Data Scientist</td>\n",
              "      <td>Philips India Limited</td>\n",
              "    </tr>\n",
              "    <tr>\n",
              "      <th>6</th>\n",
              "      <td>Software Developer - Data Scientist / NLP / Ma...</td>\n",
              "      <td>Cunesoft India Private Limited</td>\n",
              "    </tr>\n",
              "    <tr>\n",
              "      <th>7</th>\n",
              "      <td>Data Scientist - Machine Learning - Remote Wor...</td>\n",
              "      <td>Doji Ltd</td>\n",
              "    </tr>\n",
              "    <tr>\n",
              "      <th>8</th>\n",
              "      <td>Data Scientist</td>\n",
              "      <td>GENPACT India Private Limited</td>\n",
              "    </tr>\n",
              "    <tr>\n",
              "      <th>9</th>\n",
              "      <td>Data Scientist (Healthcare/Pharma Domain prefe...</td>\n",
              "      <td>GENPACT India Private Limited</td>\n",
              "    </tr>\n",
              "  </tbody>\n",
              "</table>\n",
              "</div>"
            ],
            "text/plain": [
              "                                              titles                                            company\n",
              "0              Data Scientist/Data Analyst-immediate  CAIA-Center For Artificial Intelligence & Adva...\n",
              "1  HCL hiring Data scientist with exp in machine ...                           HCL Technologies Limited\n",
              "2                  Data Scientist - Machine Learning                                        AugmatrixGo\n",
              "3                  Data Scientist - Machine Learning                  BLUE YONDER INDIA PRIVATE LIMITED\n",
              "4                  Data Scientist - Machine Learning                  BLUE YONDER INDIA PRIVATE LIMITED\n",
              "5                              Senior Data Scientist                              Philips India Limited\n",
              "6  Software Developer - Data Scientist / NLP / Ma...                     Cunesoft India Private Limited\n",
              "7  Data Scientist - Machine Learning - Remote Wor...                                           Doji Ltd\n",
              "8                                     Data Scientist                      GENPACT India Private Limited\n",
              "9  Data Scientist (Healthcare/Pharma Domain prefe...                      GENPACT India Private Limited"
            ]
          },
          "metadata": {
            "tags": []
          },
          "execution_count": 274
        }
      ]
    },
    {
      "cell_type": "code",
      "metadata": {
        "id": "s8XyWQEVfjnl"
      },
      "source": [
        "url=\"https://www.naukri.com/data-scientist-jobs?k=data%20scientist&cityType=25.9.31&ctcFilter=3to6\""
      ],
      "execution_count": 292,
      "outputs": []
    },
    {
      "cell_type": "code",
      "metadata": {
        "id": "e3pMMOYYfw1d"
      },
      "source": [
        "driver.get(url)"
      ],
      "execution_count": 293,
      "outputs": []
    },
    {
      "cell_type": "code",
      "metadata": {
        "id": "-Y8x8S7vf9uH"
      },
      "source": [
        "job_titles=[]\r\n",
        "company_names=[]\r\n",
        "locations_Delhi=[]\r\n",
        "experience_required=[]"
      ],
      "execution_count": 294,
      "outputs": []
    },
    {
      "cell_type": "code",
      "metadata": {
        "colab": {
          "base_uri": "https://localhost:8080/"
        },
        "id": "Z7wKEC9wgUjq",
        "outputId": "1badb868-cfba-4906-a01a-b92b4da8a999"
      },
      "source": [
        "#to extract job title\r\n",
        "\r\n",
        "titles_tags=driver.find_elements_by_xpath(\"//a[@class='title fw500 ellipsis']\")\r\n",
        "titles_tags[0:10]"
      ],
      "execution_count": 295,
      "outputs": [
        {
          "output_type": "execute_result",
          "data": {
            "text/plain": [
              "[<selenium.webdriver.remote.webelement.WebElement (session=\"20b41ba513c230ae5d6230e50add23b8\", element=\"572733f9-c9bb-4001-b406-639bb87e6aeb\")>,\n",
              " <selenium.webdriver.remote.webelement.WebElement (session=\"20b41ba513c230ae5d6230e50add23b8\", element=\"eaed577f-7de0-4df1-acde-817074b377ae\")>,\n",
              " <selenium.webdriver.remote.webelement.WebElement (session=\"20b41ba513c230ae5d6230e50add23b8\", element=\"82d6371e-fcc6-4d22-b1a1-bf260fb66508\")>,\n",
              " <selenium.webdriver.remote.webelement.WebElement (session=\"20b41ba513c230ae5d6230e50add23b8\", element=\"ac39c092-b38d-43a5-9ea4-d8201b2caac6\")>,\n",
              " <selenium.webdriver.remote.webelement.WebElement (session=\"20b41ba513c230ae5d6230e50add23b8\", element=\"75d23dff-c76f-4b4c-afc5-3edd639c10ee\")>,\n",
              " <selenium.webdriver.remote.webelement.WebElement (session=\"20b41ba513c230ae5d6230e50add23b8\", element=\"2abfeaa6-9653-4cbb-a4bc-4b2bcabc2ac6\")>,\n",
              " <selenium.webdriver.remote.webelement.WebElement (session=\"20b41ba513c230ae5d6230e50add23b8\", element=\"827866aa-5066-4a45-a857-cda255721d32\")>,\n",
              " <selenium.webdriver.remote.webelement.WebElement (session=\"20b41ba513c230ae5d6230e50add23b8\", element=\"52bc89b3-fee1-47b3-aa17-0b178ede2bba\")>,\n",
              " <selenium.webdriver.remote.webelement.WebElement (session=\"20b41ba513c230ae5d6230e50add23b8\", element=\"7d139a38-bbe6-4269-b8d5-fe25588f4d31\")>,\n",
              " <selenium.webdriver.remote.webelement.WebElement (session=\"20b41ba513c230ae5d6230e50add23b8\", element=\"97f3ce49-1b53-4e18-b0ca-334926aeb583\")>]"
            ]
          },
          "metadata": {
            "tags": []
          },
          "execution_count": 295
        }
      ]
    },
    {
      "cell_type": "code",
      "metadata": {
        "colab": {
          "base_uri": "https://localhost:8080/"
        },
        "id": "JSvf4UR3ga_a",
        "outputId": "57c52a59-f493-46f6-828e-f478b8612e78"
      },
      "source": [
        "for i in titles_tags:\r\n",
        "    title=i.text\r\n",
        "    job_titles.append(title)\r\n",
        "job_titles[0:10]"
      ],
      "execution_count": 296,
      "outputs": [
        {
          "output_type": "execute_result",
          "data": {
            "text/plain": [
              "['Data Scientist - Python/Machine Learning',\n",
              " 'Tech Mahindra hiring For Data Scientist- Noida',\n",
              " 'Data Scientist - Commercial Planning and Analysis',\n",
              " 'Data Scientist - Machine Learning/ Artificial Intelligence - IT',\n",
              " 'GCP Skilled Analytics Resources (Data engineer / Data scientists)',\n",
              " 'Data Scientist',\n",
              " 'Data Scientist Machine Learning',\n",
              " 'Data Scientist',\n",
              " 'Business Analyst - Data Scientist',\n",
              " 'Analyst - Data Scientist']"
            ]
          },
          "metadata": {
            "tags": []
          },
          "execution_count": 296
        }
      ]
    },
    {
      "cell_type": "code",
      "metadata": {
        "colab": {
          "base_uri": "https://localhost:8080/"
        },
        "id": "azuNsCocg0ol",
        "outputId": "129308af-0ccc-4f2b-c1a0-a90f16e99061"
      },
      "source": [
        "companies_tags=driver.find_elements_by_xpath(\"//a[@class='subTitle ellipsis fleft']\")\r\n",
        "companies_tags[0:10]"
      ],
      "execution_count": 297,
      "outputs": [
        {
          "output_type": "execute_result",
          "data": {
            "text/plain": [
              "[<selenium.webdriver.remote.webelement.WebElement (session=\"20b41ba513c230ae5d6230e50add23b8\", element=\"1566338c-cbc6-436c-95e8-037cddb09cb5\")>,\n",
              " <selenium.webdriver.remote.webelement.WebElement (session=\"20b41ba513c230ae5d6230e50add23b8\", element=\"bbf5a062-256a-4664-a596-b3cfce36a787\")>,\n",
              " <selenium.webdriver.remote.webelement.WebElement (session=\"20b41ba513c230ae5d6230e50add23b8\", element=\"c0d5672a-3d0d-4475-9327-74d478553959\")>,\n",
              " <selenium.webdriver.remote.webelement.WebElement (session=\"20b41ba513c230ae5d6230e50add23b8\", element=\"3ed9f534-3ac1-4277-b133-d6cf136ba243\")>,\n",
              " <selenium.webdriver.remote.webelement.WebElement (session=\"20b41ba513c230ae5d6230e50add23b8\", element=\"1851b509-2690-49f3-8591-bb3dfe500e08\")>,\n",
              " <selenium.webdriver.remote.webelement.WebElement (session=\"20b41ba513c230ae5d6230e50add23b8\", element=\"a9dfd5fe-0132-4861-800d-c94b6215568f\")>,\n",
              " <selenium.webdriver.remote.webelement.WebElement (session=\"20b41ba513c230ae5d6230e50add23b8\", element=\"ed7f603b-0db9-488f-aef1-f72d99383031\")>,\n",
              " <selenium.webdriver.remote.webelement.WebElement (session=\"20b41ba513c230ae5d6230e50add23b8\", element=\"fda81c1b-f704-4d8f-a42d-048e295baa06\")>,\n",
              " <selenium.webdriver.remote.webelement.WebElement (session=\"20b41ba513c230ae5d6230e50add23b8\", element=\"012bb663-2869-4b37-bcf7-6ffe6b5f6006\")>,\n",
              " <selenium.webdriver.remote.webelement.WebElement (session=\"20b41ba513c230ae5d6230e50add23b8\", element=\"493c3dcb-5ac8-4e2b-b744-c605b5638da4\")>]"
            ]
          },
          "metadata": {
            "tags": []
          },
          "execution_count": 297
        }
      ]
    },
    {
      "cell_type": "code",
      "metadata": {
        "colab": {
          "base_uri": "https://localhost:8080/"
        },
        "id": "4CZBtWBGg8HH",
        "outputId": "e3669adc-6fdc-49d1-9963-610aa9869fca"
      },
      "source": [
        " for i in companies_tags:\r\n",
        "    company_name=i.text\r\n",
        "    company_names.append(company_name)\r\n",
        "company_names[0:10]"
      ],
      "execution_count": 298,
      "outputs": [
        {
          "output_type": "execute_result",
          "data": {
            "text/plain": [
              "['Jubna',\n",
              " 'tech mahindra ltd',\n",
              " 'Air Asia India Limited',\n",
              " 'Talent Acceleration Corridor',\n",
              " 'Aerial Telecom Solutions Pvt. Ltd.',\n",
              " 'IBM India Pvt. Limited',\n",
              " 'Delhivery',\n",
              " 'Eighteen Pixels India Private Limited',\n",
              " 'HyreFox Consultants Pvt Ltd',\n",
              " 'HyreFox Consultants Pvt Ltd']"
            ]
          },
          "metadata": {
            "tags": []
          },
          "execution_count": 298
        }
      ]
    },
    {
      "cell_type": "code",
      "metadata": {
        "colab": {
          "base_uri": "https://localhost:8080/"
        },
        "id": "MnT7jf3Fhbey",
        "outputId": "d5c3dde7-dd3d-4e89-b619-e0d157cd17e1"
      },
      "source": [
        "experience_tags=driver.find_elements_by_xpath(\"//li[@class='fleft grey-text br2 placeHolderLi experience']/span[1]\")\r\n",
        "experience_tags[0:10]"
      ],
      "execution_count": 299,
      "outputs": [
        {
          "output_type": "execute_result",
          "data": {
            "text/plain": [
              "[<selenium.webdriver.remote.webelement.WebElement (session=\"20b41ba513c230ae5d6230e50add23b8\", element=\"a6693f7d-f87c-42a3-8aa7-f79ebcb08377\")>,\n",
              " <selenium.webdriver.remote.webelement.WebElement (session=\"20b41ba513c230ae5d6230e50add23b8\", element=\"40292ea4-b773-4cc4-afb4-332b1cb28270\")>,\n",
              " <selenium.webdriver.remote.webelement.WebElement (session=\"20b41ba513c230ae5d6230e50add23b8\", element=\"200137a6-c493-4234-aa95-58612a60432a\")>,\n",
              " <selenium.webdriver.remote.webelement.WebElement (session=\"20b41ba513c230ae5d6230e50add23b8\", element=\"0f241cb7-43c8-489e-a1fe-8c4e60dc6309\")>,\n",
              " <selenium.webdriver.remote.webelement.WebElement (session=\"20b41ba513c230ae5d6230e50add23b8\", element=\"dd8ea78e-9c0d-4028-851c-bd58f43e6654\")>,\n",
              " <selenium.webdriver.remote.webelement.WebElement (session=\"20b41ba513c230ae5d6230e50add23b8\", element=\"093f4bc2-9d33-4fea-9ea6-4bfb6cb07b6f\")>,\n",
              " <selenium.webdriver.remote.webelement.WebElement (session=\"20b41ba513c230ae5d6230e50add23b8\", element=\"c9ca2a0f-f224-46b0-9112-e3992fa4cdbc\")>,\n",
              " <selenium.webdriver.remote.webelement.WebElement (session=\"20b41ba513c230ae5d6230e50add23b8\", element=\"9b0c704f-1f80-495f-9643-af38df987b84\")>,\n",
              " <selenium.webdriver.remote.webelement.WebElement (session=\"20b41ba513c230ae5d6230e50add23b8\", element=\"871cb0f6-1449-4646-a686-186b48f127a1\")>,\n",
              " <selenium.webdriver.remote.webelement.WebElement (session=\"20b41ba513c230ae5d6230e50add23b8\", element=\"c1dc933b-e776-4005-b71e-58f5b7eb88e9\")>]"
            ]
          },
          "metadata": {
            "tags": []
          },
          "execution_count": 299
        }
      ]
    },
    {
      "cell_type": "code",
      "metadata": {
        "colab": {
          "base_uri": "https://localhost:8080/"
        },
        "id": "1gr1-_dOhheD",
        "outputId": "e955c560-8702-4c49-e3ff-0b0575e3b3e7"
      },
      "source": [
        " for i in experience_tags:\r\n",
        "    experience_year=i.text\r\n",
        "    experience_required.append(experience_year)\r\n",
        "experience_required[0:10]"
      ],
      "execution_count": 300,
      "outputs": [
        {
          "output_type": "execute_result",
          "data": {
            "text/plain": [
              "['5-8 Yrs',\n",
              " '5-10 Yrs',\n",
              " '1-6 Yrs',\n",
              " '6-11 Yrs',\n",
              " '3-8 Yrs',\n",
              " '3-5 Yrs',\n",
              " '1-3 Yrs',\n",
              " '2-6 Yrs',\n",
              " '3-5 Yrs',\n",
              " '1-3 Yrs']"
            ]
          },
          "metadata": {
            "tags": []
          },
          "execution_count": 300
        }
      ]
    },
    {
      "cell_type": "code",
      "metadata": {
        "colab": {
          "base_uri": "https://localhost:8080/"
        },
        "id": "bQ-LmI2dhr7W",
        "outputId": "8ac8b1a8-258c-4aa4-b24d-45ab1020ea35"
      },
      "source": [
        "locations_tags=driver.find_elements_by_xpath(\"//li[@class='fleft grey-text br2 placeHolderLi location']/span\")\r\n",
        "locations_tags[0:10]"
      ],
      "execution_count": 301,
      "outputs": [
        {
          "output_type": "execute_result",
          "data": {
            "text/plain": [
              "[<selenium.webdriver.remote.webelement.WebElement (session=\"20b41ba513c230ae5d6230e50add23b8\", element=\"6fb89c87-648b-439d-9403-e598ef0173c9\")>,\n",
              " <selenium.webdriver.remote.webelement.WebElement (session=\"20b41ba513c230ae5d6230e50add23b8\", element=\"e7119d69-2f16-4312-97cd-b8502520d6af\")>,\n",
              " <selenium.webdriver.remote.webelement.WebElement (session=\"20b41ba513c230ae5d6230e50add23b8\", element=\"74bac5e5-6920-4f46-a4f3-9fcbae7b087a\")>,\n",
              " <selenium.webdriver.remote.webelement.WebElement (session=\"20b41ba513c230ae5d6230e50add23b8\", element=\"9002bf51-ba8c-4cbf-a9a2-4419058d7de3\")>,\n",
              " <selenium.webdriver.remote.webelement.WebElement (session=\"20b41ba513c230ae5d6230e50add23b8\", element=\"6b12c629-2549-47ff-8ed6-dcf0e2944503\")>,\n",
              " <selenium.webdriver.remote.webelement.WebElement (session=\"20b41ba513c230ae5d6230e50add23b8\", element=\"71ef1f39-8fc0-4664-84a7-8f161bf476bb\")>,\n",
              " <selenium.webdriver.remote.webelement.WebElement (session=\"20b41ba513c230ae5d6230e50add23b8\", element=\"3f13809b-19f7-4b11-91b8-462745637efa\")>,\n",
              " <selenium.webdriver.remote.webelement.WebElement (session=\"20b41ba513c230ae5d6230e50add23b8\", element=\"bb925d8c-67fa-4fe2-a008-b1c745ee5592\")>,\n",
              " <selenium.webdriver.remote.webelement.WebElement (session=\"20b41ba513c230ae5d6230e50add23b8\", element=\"54e3a967-a964-4a59-a731-1c6372e785b7\")>,\n",
              " <selenium.webdriver.remote.webelement.WebElement (session=\"20b41ba513c230ae5d6230e50add23b8\", element=\"8983af4e-5d5c-421f-a6b7-ea83c7987c40\")>]"
            ]
          },
          "metadata": {
            "tags": []
          },
          "execution_count": 301
        }
      ]
    },
    {
      "cell_type": "code",
      "metadata": {
        "colab": {
          "base_uri": "https://localhost:8080/"
        },
        "id": "E5mKY9a_hyRU",
        "outputId": "3cd13606-51d3-4355-d60e-2221a91c714a"
      },
      "source": [
        "for i in locations_tags:\r\n",
        "     locations_list=i.text\r\n",
        "     locations_Delhi.append(locations_list)\r\n",
        "locations_Delhi[0:10]"
      ],
      "execution_count": 303,
      "outputs": [
        {
          "output_type": "execute_result",
          "data": {
            "text/plain": [
              "['Noida',\n",
              " 'Noida',\n",
              " 'Delhi NCR, Gurgaon',\n",
              " 'Delhi/NCR Delhi NCR, Noida',\n",
              " 'Pune, Bengaluru, Gurgaon',\n",
              " 'Gurgaon Gurugram',\n",
              " 'Gurgaon',\n",
              " 'Delhi NCR',\n",
              " 'Gurgaon',\n",
              " 'Gurgaon']"
            ]
          },
          "metadata": {
            "tags": []
          },
          "execution_count": 303
        }
      ]
    },
    {
      "cell_type": "code",
      "metadata": {
        "colab": {
          "base_uri": "https://localhost:8080/"
        },
        "id": "yYOTh5r2ipq0",
        "outputId": "24574550-11a8-42bd-fd96-3b050c7f5072"
      },
      "source": [
        "print(len(job_titles),len(company_names),len(experience_required),len(locations_Delhi))"
      ],
      "execution_count": 304,
      "outputs": [
        {
          "output_type": "stream",
          "text": [
            "20 20 20 20\n"
          ],
          "name": "stdout"
        }
      ]
    },
    {
      "cell_type": "code",
      "metadata": {
        "id": "e7B0h3rikBUY"
      },
      "source": [
        "import pandas as pd\r\n",
        "jobs=pd.DataFrame({})\r\n",
        "jobs['titles']=job_titles\r\n",
        "jobs['company']=company_names\r\n",
        "jobs['experience_required']=experience_required\r\n",
        "jobs['location']=locations_Delhi"
      ],
      "execution_count": 305,
      "outputs": []
    },
    {
      "cell_type": "code",
      "metadata": {
        "colab": {
          "base_uri": "https://localhost:8080/",
          "height": 348
        },
        "id": "pmGZt_45kKYY",
        "outputId": "c6d5bb33-e54f-469c-c7b3-37997c40b233"
      },
      "source": [
        "jobs[0:10]"
      ],
      "execution_count": 306,
      "outputs": [
        {
          "output_type": "execute_result",
          "data": {
            "text/html": [
              "<div>\n",
              "<style scoped>\n",
              "    .dataframe tbody tr th:only-of-type {\n",
              "        vertical-align: middle;\n",
              "    }\n",
              "\n",
              "    .dataframe tbody tr th {\n",
              "        vertical-align: top;\n",
              "    }\n",
              "\n",
              "    .dataframe thead th {\n",
              "        text-align: right;\n",
              "    }\n",
              "</style>\n",
              "<table border=\"1\" class=\"dataframe\">\n",
              "  <thead>\n",
              "    <tr style=\"text-align: right;\">\n",
              "      <th></th>\n",
              "      <th>titles</th>\n",
              "      <th>company</th>\n",
              "      <th>experience_required</th>\n",
              "      <th>location</th>\n",
              "    </tr>\n",
              "  </thead>\n",
              "  <tbody>\n",
              "    <tr>\n",
              "      <th>0</th>\n",
              "      <td>Data Scientist - Python/Machine Learning</td>\n",
              "      <td>Jubna</td>\n",
              "      <td>5-8 Yrs</td>\n",
              "      <td>Noida</td>\n",
              "    </tr>\n",
              "    <tr>\n",
              "      <th>1</th>\n",
              "      <td>Tech Mahindra hiring For Data Scientist- Noida</td>\n",
              "      <td>tech mahindra ltd</td>\n",
              "      <td>5-10 Yrs</td>\n",
              "      <td>Noida</td>\n",
              "    </tr>\n",
              "    <tr>\n",
              "      <th>2</th>\n",
              "      <td>Data Scientist - Commercial Planning and Analysis</td>\n",
              "      <td>Air Asia India Limited</td>\n",
              "      <td>1-6 Yrs</td>\n",
              "      <td>Delhi NCR, Gurgaon</td>\n",
              "    </tr>\n",
              "    <tr>\n",
              "      <th>3</th>\n",
              "      <td>Data Scientist - Machine Learning/ Artificial ...</td>\n",
              "      <td>Talent Acceleration Corridor</td>\n",
              "      <td>6-11 Yrs</td>\n",
              "      <td>Delhi/NCR Delhi NCR, Noida</td>\n",
              "    </tr>\n",
              "    <tr>\n",
              "      <th>4</th>\n",
              "      <td>GCP Skilled Analytics Resources (Data engineer...</td>\n",
              "      <td>Aerial Telecom Solutions Pvt. Ltd.</td>\n",
              "      <td>3-8 Yrs</td>\n",
              "      <td>Pune, Bengaluru, Gurgaon</td>\n",
              "    </tr>\n",
              "    <tr>\n",
              "      <th>5</th>\n",
              "      <td>Data Scientist</td>\n",
              "      <td>IBM India Pvt. Limited</td>\n",
              "      <td>3-5 Yrs</td>\n",
              "      <td>Gurgaon Gurugram</td>\n",
              "    </tr>\n",
              "    <tr>\n",
              "      <th>6</th>\n",
              "      <td>Data Scientist Machine Learning</td>\n",
              "      <td>Delhivery</td>\n",
              "      <td>1-3 Yrs</td>\n",
              "      <td>Gurgaon</td>\n",
              "    </tr>\n",
              "    <tr>\n",
              "      <th>7</th>\n",
              "      <td>Data Scientist</td>\n",
              "      <td>Eighteen Pixels India Private Limited</td>\n",
              "      <td>2-6 Yrs</td>\n",
              "      <td>Delhi NCR</td>\n",
              "    </tr>\n",
              "    <tr>\n",
              "      <th>8</th>\n",
              "      <td>Business Analyst - Data Scientist</td>\n",
              "      <td>HyreFox Consultants Pvt Ltd</td>\n",
              "      <td>3-5 Yrs</td>\n",
              "      <td>Gurgaon</td>\n",
              "    </tr>\n",
              "    <tr>\n",
              "      <th>9</th>\n",
              "      <td>Analyst - Data Scientist</td>\n",
              "      <td>HyreFox Consultants Pvt Ltd</td>\n",
              "      <td>1-3 Yrs</td>\n",
              "      <td>Gurgaon</td>\n",
              "    </tr>\n",
              "  </tbody>\n",
              "</table>\n",
              "</div>"
            ],
            "text/plain": [
              "                                              titles  ...                    location\n",
              "0           Data Scientist - Python/Machine Learning  ...                       Noida\n",
              "1     Tech Mahindra hiring For Data Scientist- Noida  ...                       Noida\n",
              "2  Data Scientist - Commercial Planning and Analysis  ...          Delhi NCR, Gurgaon\n",
              "3  Data Scientist - Machine Learning/ Artificial ...  ...  Delhi/NCR Delhi NCR, Noida\n",
              "4  GCP Skilled Analytics Resources (Data engineer...  ...    Pune, Bengaluru, Gurgaon\n",
              "5                                     Data Scientist  ...            Gurgaon Gurugram\n",
              "6                    Data Scientist Machine Learning  ...                     Gurgaon\n",
              "7                                     Data Scientist  ...                   Delhi NCR\n",
              "8                  Business Analyst - Data Scientist  ...                     Gurgaon\n",
              "9                           Analyst - Data Scientist  ...                     Gurgaon\n",
              "\n",
              "[10 rows x 4 columns]"
            ]
          },
          "metadata": {
            "tags": []
          },
          "execution_count": 306
        }
      ]
    },
    {
      "cell_type": "code",
      "metadata": {
        "id": "w23nc_cHp0BG"
      },
      "source": [
        "url=\"https://www.glassdoor.co.in/Job/noida-data-scientist-jobs-SRCH_IL.0,5_IC4477468_KO6,20.htm\""
      ],
      "execution_count": 308,
      "outputs": []
    },
    {
      "cell_type": "code",
      "metadata": {
        "id": "0zaBidXrqj0m"
      },
      "source": [
        "driver.get(url)"
      ],
      "execution_count": 309,
      "outputs": []
    },
    {
      "cell_type": "code",
      "metadata": {
        "id": "4brk1SDuqrAW"
      },
      "source": [
        "Numberofdaysago_list=[]\r\n",
        "company_names=[]\r\n",
        "whenjobwasposted_list=[]\r\n",
        "ratingofthecompany_list=[]"
      ],
      "execution_count": 315,
      "outputs": []
    },
    {
      "cell_type": "code",
      "metadata": {
        "colab": {
          "base_uri": "https://localhost:8080/"
        },
        "id": "KL51oMcCrZtc",
        "outputId": "7c38a094-53c4-42d4-8e35-77bd3299d506"
      },
      "source": [
        "#to extract Number of days\r\n",
        "\r\n",
        "Numberofdaysago_tags=driver.find_elements_by_xpath(\"//li[@class='d-flex align-items-end pl-std css-mi55ob']/span[1]\")\r\n",
        "Numberofdaysago_tags[0:10]"
      ],
      "execution_count": 326,
      "outputs": [
        {
          "output_type": "execute_result",
          "data": {
            "text/plain": [
              "[]"
            ]
          },
          "metadata": {
            "tags": []
          },
          "execution_count": 326
        }
      ]
    },
    {
      "cell_type": "code",
      "metadata": {
        "colab": {
          "base_uri": "https://localhost:8080/"
        },
        "id": "A7kypP2xzIlA",
        "outputId": "7b275e37-ca64-4f1b-ef9e-d9cc1a74ea0a"
      },
      "source": [
        "companies_tags=driver.find_elements_by_xpath(\"//a[@class='jobHeader d-flex justify-content-between align-items-start']\")\r\n",
        "companies_tags[0:10]"
      ],
      "execution_count": 335,
      "outputs": [
        {
          "output_type": "execute_result",
          "data": {
            "text/plain": [
              "[]"
            ]
          },
          "metadata": {
            "tags": []
          },
          "execution_count": 335
        }
      ]
    },
    {
      "cell_type": "code",
      "metadata": {
        "colab": {
          "base_uri": "https://localhost:8080/",
          "height": 48
        },
        "id": "vvMHe6Yt6Zd3",
        "outputId": "db353101-2553-4c33-f43d-76ed63f94aef"
      },
      "source": [
        "# initializing web driver and webpage\r\n",
        "driver.get('https://www.glassdoor.co.in/Job/index.htm')\r\n",
        "# search job position and location\r\n",
        "driver.find_element_by_id('KeywordSearch').send_keys('Data Scientist')\r\n",
        "driver.find_element_by_id('LocationSearch').clear()\r\n",
        "driver.find_element_by_id('LocationSearch').send_keys('Noida')\r\n",
        "driver.find_element_by_class_name('gd-btn-mkt').click()\r\n",
        "\r\n",
        "# extracting  'company', 'no. of days ago' and 'rating' for first 10 jobs\r\n",
        "bs= BeautifulSoup(driver.page_source, 'html.parser')\r\n",
        "jobs = bs.find_all('ul', attrs ={'class':'jlGrid hover p-0'})\r\n",
        "company = [j.text for i in jobs for j in i.find_all('a','css-jobHeader d-flex justify-content-between align-items-start')[:10]]\r\n",
        "ndays_ago = [j.text for i in jobs for j in i.find_all('div','d-flex align-items-end pl-std css-mi55ob')[:10]]\r\n",
        "\r\n",
        "ratings = []\r\n",
        "for i in jobs:\r\n",
        "       for j in i.find_all('div','d-flex flex-column css-fbt9gv e1rrn5ka2')[:10]:\r\n",
        "            if j.text != '':\r\n",
        "                ratings.append(j.text)\r\n",
        "            else:\r\n",
        "                ratings.append('-')\r\n",
        "                \r\n",
        "    \r\n",
        "job_df = pd.DataFrame({'Company': company,\r\n",
        "                       'Days_ago': ndays_ago,\r\n",
        "                       'Rating': ratings})\r\n",
        "job_df"
      ],
      "execution_count": 339,
      "outputs": [
        {
          "output_type": "execute_result",
          "data": {
            "text/html": [
              "<div>\n",
              "<style scoped>\n",
              "    .dataframe tbody tr th:only-of-type {\n",
              "        vertical-align: middle;\n",
              "    }\n",
              "\n",
              "    .dataframe tbody tr th {\n",
              "        vertical-align: top;\n",
              "    }\n",
              "\n",
              "    .dataframe thead th {\n",
              "        text-align: right;\n",
              "    }\n",
              "</style>\n",
              "<table border=\"1\" class=\"dataframe\">\n",
              "  <thead>\n",
              "    <tr style=\"text-align: right;\">\n",
              "      <th></th>\n",
              "      <th>Company</th>\n",
              "      <th>Days_ago</th>\n",
              "      <th>Rating</th>\n",
              "    </tr>\n",
              "  </thead>\n",
              "  <tbody>\n",
              "  </tbody>\n",
              "</table>\n",
              "</div>"
            ],
            "text/plain": [
              "Empty DataFrame\n",
              "Columns: [Company, Days_ago, Rating]\n",
              "Index: []"
            ]
          },
          "metadata": {
            "tags": []
          },
          "execution_count": 339
        }
      ]
    },
    {
      "cell_type": "code",
      "metadata": {
        "colab": {
          "base_uri": "https://localhost:8080/",
          "height": 348
        },
        "id": "JJNJxyqBD8JT",
        "outputId": "4dd59260-7f2e-4d7c-bee3-8ab8b7e9ccb9"
      },
      "source": [
        "# initializing web driver and webpage\r\n",
        "driver.get('https://www.glassdoor.co.in/Salaries/index.htm')\r\n",
        "# search job position and location\r\n",
        "driver.find_element_by_id('KeywordSearch').send_keys('Data Scientist')\r\n",
        "driver.find_element_by_id('LocationSearch').clear()\r\n",
        "driver.find_element_by_id('LocationSearch').send_keys('Noida')\r\n",
        "driver.find_element_by_class_name('gd-btn-mkt').click()\r\n",
        "\r\n",
        "# extracting 'company', 'average salary','minimum salary','maximum salary' and 'no. of salaries' for first 10 jobs\r\n",
        "bs= BeautifulSoup(driver.page_source, 'html.parser')\r\n",
        "company = [i.text for i in driver.find_elements_by_xpath('//div[@class = \"d-flex\"]/div[2]/p[2]')[:10]]\r\n",
        "avg_sal = [i.text for i in driver.find_elements_by_xpath('//div[@class=\"col-2 d-none d-md-flex flex-row justify-content-end\"]/strong')[:10]]\r\n",
        "min_sal = [i.text for i in driver.find_elements_by_xpath('//div[@class= \"col-3 offset-1 d-none d-md-block\" ]/div/div[2]/span[1]')[:10]]\r\n",
        "max_sal = [i.text for i in driver.find_elements_by_xpath('//div[@class= \"col-3 offset-1 d-none d-md-block\" ]/div/div[2]/span[2]')[:10]]\r\n",
        "n_sal = [i.text for i in driver.find_elements_by_xpath('//p[@class= \"css-1uyte9r css-1kuy7z7 m-0 \"]')[:10]]\r\n",
        "\r\n",
        "job_sal_df = pd.DataFrame({'Company': company,\r\n",
        "                       'Mininum_salary': min_sal,\r\n",
        "                       'Maximum_salary': max_sal,\r\n",
        "                       'Average_salary': avg_sal,\r\n",
        "                       'No. of salaries':n_sal})\r\n",
        "job_sal_df"
      ],
      "execution_count": 342,
      "outputs": [
        {
          "output_type": "execute_result",
          "data": {
            "text/html": [
              "<div>\n",
              "<style scoped>\n",
              "    .dataframe tbody tr th:only-of-type {\n",
              "        vertical-align: middle;\n",
              "    }\n",
              "\n",
              "    .dataframe tbody tr th {\n",
              "        vertical-align: top;\n",
              "    }\n",
              "\n",
              "    .dataframe thead th {\n",
              "        text-align: right;\n",
              "    }\n",
              "</style>\n",
              "<table border=\"1\" class=\"dataframe\">\n",
              "  <thead>\n",
              "    <tr style=\"text-align: right;\">\n",
              "      <th></th>\n",
              "      <th>Company</th>\n",
              "      <th>Mininum_salary</th>\n",
              "      <th>Maximum_salary</th>\n",
              "      <th>Average_salary</th>\n",
              "      <th>No. of salaries</th>\n",
              "    </tr>\n",
              "  </thead>\n",
              "  <tbody>\n",
              "    <tr>\n",
              "      <th>0</th>\n",
              "      <td>Delhivery</td>\n",
              "      <td>₹456K</td>\n",
              "      <td>₹11,789K</td>\n",
              "      <td>₹ 12,81,419</td>\n",
              "      <td>13 salaries</td>\n",
              "    </tr>\n",
              "    <tr>\n",
              "      <th>1</th>\n",
              "      <td>Ericsson-Worldwide</td>\n",
              "      <td>₹420K</td>\n",
              "      <td>₹1,636K</td>\n",
              "      <td>₹ 7,52,052</td>\n",
              "      <td>11 salaries</td>\n",
              "    </tr>\n",
              "    <tr>\n",
              "      <th>2</th>\n",
              "      <td>Accenture</td>\n",
              "      <td>₹585K</td>\n",
              "      <td>₹2,200K</td>\n",
              "      <td>₹ 9,98,925</td>\n",
              "      <td>10 salaries</td>\n",
              "    </tr>\n",
              "    <tr>\n",
              "      <th>3</th>\n",
              "      <td>Tata Consultancy Services</td>\n",
              "      <td>₹336K</td>\n",
              "      <td>₹1,024K</td>\n",
              "      <td>₹ 6,02,000</td>\n",
              "      <td>9 salaries</td>\n",
              "    </tr>\n",
              "    <tr>\n",
              "      <th>4</th>\n",
              "      <td>IBM</td>\n",
              "      <td>₹595K</td>\n",
              "      <td>₹2,769K</td>\n",
              "      <td>₹ 7,71,657</td>\n",
              "      <td>9 salaries</td>\n",
              "    </tr>\n",
              "    <tr>\n",
              "      <th>5</th>\n",
              "      <td>UnitedHealth Group</td>\n",
              "      <td>₹727K</td>\n",
              "      <td>₹1,597K</td>\n",
              "      <td>₹ 12,22,902</td>\n",
              "      <td>8 salaries</td>\n",
              "    </tr>\n",
              "    <tr>\n",
              "      <th>6</th>\n",
              "      <td>Valiance Solutions</td>\n",
              "      <td>₹509K</td>\n",
              "      <td>₹1,168K</td>\n",
              "      <td>₹ 7,91,015</td>\n",
              "      <td>8 salaries</td>\n",
              "    </tr>\n",
              "    <tr>\n",
              "      <th>7</th>\n",
              "      <td>Innovaccer</td>\n",
              "      <td>₹629K</td>\n",
              "      <td>₹1,719K</td>\n",
              "      <td>₹ 12,15,138</td>\n",
              "      <td>7 salaries</td>\n",
              "    </tr>\n",
              "    <tr>\n",
              "      <th>8</th>\n",
              "      <td>Cognizant Technology Solutions</td>\n",
              "      <td>₹804K</td>\n",
              "      <td>₹1,281K</td>\n",
              "      <td>₹ 10,21,889</td>\n",
              "      <td>6 salaries</td>\n",
              "    </tr>\n",
              "    <tr>\n",
              "      <th>9</th>\n",
              "      <td>ZS Associates</td>\n",
              "      <td>₹205K</td>\n",
              "      <td>₹1,835K</td>\n",
              "      <td>₹ 10,00,000</td>\n",
              "      <td>5 salaries</td>\n",
              "    </tr>\n",
              "  </tbody>\n",
              "</table>\n",
              "</div>"
            ],
            "text/plain": [
              "                          Company Mininum_salary  ... Average_salary No. of salaries\n",
              "0                       Delhivery          ₹456K  ...    ₹ 12,81,419     13 salaries\n",
              "1              Ericsson-Worldwide          ₹420K  ...     ₹ 7,52,052     11 salaries\n",
              "2                       Accenture          ₹585K  ...     ₹ 9,98,925     10 salaries\n",
              "3       Tata Consultancy Services          ₹336K  ...     ₹ 6,02,000      9 salaries\n",
              "4                             IBM          ₹595K  ...     ₹ 7,71,657      9 salaries\n",
              "5              UnitedHealth Group          ₹727K  ...    ₹ 12,22,902      8 salaries\n",
              "6              Valiance Solutions          ₹509K  ...     ₹ 7,91,015      8 salaries\n",
              "7                      Innovaccer          ₹629K  ...    ₹ 12,15,138      7 salaries\n",
              "8  Cognizant Technology Solutions          ₹804K  ...    ₹ 10,21,889      6 salaries\n",
              "9                   ZS Associates          ₹205K  ...    ₹ 10,00,000      5 salaries\n",
              "\n",
              "[10 rows x 5 columns]"
            ]
          },
          "metadata": {
            "tags": []
          },
          "execution_count": 342
        }
      ]
    },
    {
      "cell_type": "code",
      "metadata": {
        "id": "WFdO6CXYLENn"
      },
      "source": [
        "# defining function\r\n",
        "def flipkart_products(product):\r\n",
        "    # initializing web driver and webpage\r\n",
        "    driver.get('https://www.flipkart.com/search?q=sunglasses&otracker=search&otracker1=search&marketplace=FLIPKART&as-show=on&as=off')\r\n",
        "    print('loading.............','\\n')\r\n",
        "    # loop to scape all product related data for each page till page 3\r\n",
        "    brand = []\r\n",
        "    product = []\r\n",
        "    price = []\r\n",
        "    discount = []\r\n",
        "    page = 1\r\n",
        "    end_page = 3\r\n",
        "    nxt = driver.find_element_by_class_name('_1LKTO3')\r\n",
        "    while page <= end_page:\r\n",
        "        bs = BeautifulSoup(driver.page_source, 'html.parser')\r\n",
        "        item_info = bs.find_all('div', attrs ={'class':'E2-pcE _1q8tSL'})\r\n",
        "        for i in item_info:\r\n",
        "\r\n",
        "            for j in i.find_all('_2gmUFU _3V8rao'):\r\n",
        "                brand.append(j.text)\r\n",
        "\r\n",
        "            for k in i.find_all('a','IRpwTa'):\r\n",
        "                product.append(k.text)\r\n",
        "\r\n",
        "            for l in i.find_all('_3KxRU6 _2ssEMF'):\r\n",
        "                price.append(l.text)\r\n",
        "\r\n",
        "        for i in bs.find_all('div','_25b18c')[:40]:\r\n",
        "            if i.find('_2gmUFU _3V8rao') is not None:\r\n",
        "                discount.append(i.text[-7:])\r\n",
        "            else:\r\n",
        "                discount.append('-')\r\n",
        "\r\n",
        "        print('Data extracted for page:',page,'\\n')\r\n",
        "\r\n",
        "        if page == end_page:\r\n",
        "            break\r\n",
        "        else:    \r\n",
        "            nxt.click()\r\n",
        "            print('loading.............','\\n')\r\n",
        "            page += 1\r\n",
        "\r\n",
        "    glasses_df = pd.DataFrame({'Brand': brand,\r\n",
        "                              'Product_description': product,\r\n",
        "                              'Price': price,\r\n",
        "                              'Discount':discount})   \r\n",
        "    return glasses_df"
      ],
      "execution_count": 366,
      "outputs": []
    },
    {
      "cell_type": "code",
      "metadata": {
        "colab": {
          "base_uri": "https://localhost:8080/",
          "height": 540
        },
        "id": "bze38c1PNiV2",
        "outputId": "715e38b0-880a-438f-db22-ff5671eb7612"
      },
      "source": [
        "# using user-defined function 'flipkart_products' for scraping sunglasses data\r\n",
        "flipkart_products(product = 'sunglasses' )"
      ],
      "execution_count": 367,
      "outputs": [
        {
          "output_type": "stream",
          "text": [
            "loading............. \n",
            "\n",
            "Data extracted for page: 1 \n",
            "\n",
            "loading............. \n",
            "\n",
            "Data extracted for page: 2 \n",
            "\n"
          ],
          "name": "stdout"
        },
        {
          "output_type": "error",
          "ename": "ElementClickInterceptedException",
          "evalue": "ignored",
          "traceback": [
            "\u001b[0;31m---------------------------------------------------------------------------\u001b[0m",
            "\u001b[0;31mElementClickInterceptedException\u001b[0m          Traceback (most recent call last)",
            "\u001b[0;32m<ipython-input-367-83d9c33c731c>\u001b[0m in \u001b[0;36m<module>\u001b[0;34m()\u001b[0m\n\u001b[1;32m      1\u001b[0m \u001b[0;31m# using user-defined function 'flipkart_products' for scraping sunglasses data\u001b[0m\u001b[0;34m\u001b[0m\u001b[0;34m\u001b[0m\u001b[0;34m\u001b[0m\u001b[0m\n\u001b[0;32m----> 2\u001b[0;31m \u001b[0mflipkart_products\u001b[0m\u001b[0;34m(\u001b[0m\u001b[0mproduct\u001b[0m \u001b[0;34m=\u001b[0m \u001b[0;34m'sunglasses'\u001b[0m \u001b[0;34m)\u001b[0m\u001b[0;34m\u001b[0m\u001b[0;34m\u001b[0m\u001b[0m\n\u001b[0m",
            "\u001b[0;32m<ipython-input-366-887ea2226670>\u001b[0m in \u001b[0;36mflipkart_products\u001b[0;34m(product)\u001b[0m\n\u001b[1;32m     37\u001b[0m             \u001b[0;32mbreak\u001b[0m\u001b[0;34m\u001b[0m\u001b[0;34m\u001b[0m\u001b[0m\n\u001b[1;32m     38\u001b[0m         \u001b[0;32melse\u001b[0m\u001b[0;34m:\u001b[0m\u001b[0;34m\u001b[0m\u001b[0;34m\u001b[0m\u001b[0m\n\u001b[0;32m---> 39\u001b[0;31m             \u001b[0mnxt\u001b[0m\u001b[0;34m.\u001b[0m\u001b[0mclick\u001b[0m\u001b[0;34m(\u001b[0m\u001b[0;34m)\u001b[0m\u001b[0;34m\u001b[0m\u001b[0;34m\u001b[0m\u001b[0m\n\u001b[0m\u001b[1;32m     40\u001b[0m             \u001b[0mprint\u001b[0m\u001b[0;34m(\u001b[0m\u001b[0;34m'loading.............'\u001b[0m\u001b[0;34m,\u001b[0m\u001b[0;34m'\\n'\u001b[0m\u001b[0;34m)\u001b[0m\u001b[0;34m\u001b[0m\u001b[0;34m\u001b[0m\u001b[0m\n\u001b[1;32m     41\u001b[0m             \u001b[0mpage\u001b[0m \u001b[0;34m+=\u001b[0m \u001b[0;36m1\u001b[0m\u001b[0;34m\u001b[0m\u001b[0;34m\u001b[0m\u001b[0m\n",
            "\u001b[0;32m/usr/local/lib/python3.6/dist-packages/selenium/webdriver/remote/webelement.py\u001b[0m in \u001b[0;36mclick\u001b[0;34m(self)\u001b[0m\n\u001b[1;32m     78\u001b[0m     \u001b[0;32mdef\u001b[0m \u001b[0mclick\u001b[0m\u001b[0;34m(\u001b[0m\u001b[0mself\u001b[0m\u001b[0;34m)\u001b[0m\u001b[0;34m:\u001b[0m\u001b[0;34m\u001b[0m\u001b[0;34m\u001b[0m\u001b[0m\n\u001b[1;32m     79\u001b[0m         \u001b[0;34m\"\"\"Clicks the element.\"\"\"\u001b[0m\u001b[0;34m\u001b[0m\u001b[0;34m\u001b[0m\u001b[0m\n\u001b[0;32m---> 80\u001b[0;31m         \u001b[0mself\u001b[0m\u001b[0;34m.\u001b[0m\u001b[0m_execute\u001b[0m\u001b[0;34m(\u001b[0m\u001b[0mCommand\u001b[0m\u001b[0;34m.\u001b[0m\u001b[0mCLICK_ELEMENT\u001b[0m\u001b[0;34m)\u001b[0m\u001b[0;34m\u001b[0m\u001b[0;34m\u001b[0m\u001b[0m\n\u001b[0m\u001b[1;32m     81\u001b[0m \u001b[0;34m\u001b[0m\u001b[0m\n\u001b[1;32m     82\u001b[0m     \u001b[0;32mdef\u001b[0m \u001b[0msubmit\u001b[0m\u001b[0;34m(\u001b[0m\u001b[0mself\u001b[0m\u001b[0;34m)\u001b[0m\u001b[0;34m:\u001b[0m\u001b[0;34m\u001b[0m\u001b[0;34m\u001b[0m\u001b[0m\n",
            "\u001b[0;32m/usr/local/lib/python3.6/dist-packages/selenium/webdriver/remote/webelement.py\u001b[0m in \u001b[0;36m_execute\u001b[0;34m(self, command, params)\u001b[0m\n\u001b[1;32m    631\u001b[0m             \u001b[0mparams\u001b[0m \u001b[0;34m=\u001b[0m \u001b[0;34m{\u001b[0m\u001b[0;34m}\u001b[0m\u001b[0;34m\u001b[0m\u001b[0;34m\u001b[0m\u001b[0m\n\u001b[1;32m    632\u001b[0m         \u001b[0mparams\u001b[0m\u001b[0;34m[\u001b[0m\u001b[0;34m'id'\u001b[0m\u001b[0;34m]\u001b[0m \u001b[0;34m=\u001b[0m \u001b[0mself\u001b[0m\u001b[0;34m.\u001b[0m\u001b[0m_id\u001b[0m\u001b[0;34m\u001b[0m\u001b[0;34m\u001b[0m\u001b[0m\n\u001b[0;32m--> 633\u001b[0;31m         \u001b[0;32mreturn\u001b[0m \u001b[0mself\u001b[0m\u001b[0;34m.\u001b[0m\u001b[0m_parent\u001b[0m\u001b[0;34m.\u001b[0m\u001b[0mexecute\u001b[0m\u001b[0;34m(\u001b[0m\u001b[0mcommand\u001b[0m\u001b[0;34m,\u001b[0m \u001b[0mparams\u001b[0m\u001b[0;34m)\u001b[0m\u001b[0;34m\u001b[0m\u001b[0;34m\u001b[0m\u001b[0m\n\u001b[0m\u001b[1;32m    634\u001b[0m \u001b[0;34m\u001b[0m\u001b[0m\n\u001b[1;32m    635\u001b[0m     \u001b[0;32mdef\u001b[0m \u001b[0mfind_element\u001b[0m\u001b[0;34m(\u001b[0m\u001b[0mself\u001b[0m\u001b[0;34m,\u001b[0m \u001b[0mby\u001b[0m\u001b[0;34m=\u001b[0m\u001b[0mBy\u001b[0m\u001b[0;34m.\u001b[0m\u001b[0mID\u001b[0m\u001b[0;34m,\u001b[0m \u001b[0mvalue\u001b[0m\u001b[0;34m=\u001b[0m\u001b[0;32mNone\u001b[0m\u001b[0;34m)\u001b[0m\u001b[0;34m:\u001b[0m\u001b[0;34m\u001b[0m\u001b[0;34m\u001b[0m\u001b[0m\n",
            "\u001b[0;32m/usr/local/lib/python3.6/dist-packages/selenium/webdriver/remote/webdriver.py\u001b[0m in \u001b[0;36mexecute\u001b[0;34m(self, driver_command, params)\u001b[0m\n\u001b[1;32m    319\u001b[0m         \u001b[0mresponse\u001b[0m \u001b[0;34m=\u001b[0m \u001b[0mself\u001b[0m\u001b[0;34m.\u001b[0m\u001b[0mcommand_executor\u001b[0m\u001b[0;34m.\u001b[0m\u001b[0mexecute\u001b[0m\u001b[0;34m(\u001b[0m\u001b[0mdriver_command\u001b[0m\u001b[0;34m,\u001b[0m \u001b[0mparams\u001b[0m\u001b[0;34m)\u001b[0m\u001b[0;34m\u001b[0m\u001b[0;34m\u001b[0m\u001b[0m\n\u001b[1;32m    320\u001b[0m         \u001b[0;32mif\u001b[0m \u001b[0mresponse\u001b[0m\u001b[0;34m:\u001b[0m\u001b[0;34m\u001b[0m\u001b[0;34m\u001b[0m\u001b[0m\n\u001b[0;32m--> 321\u001b[0;31m             \u001b[0mself\u001b[0m\u001b[0;34m.\u001b[0m\u001b[0merror_handler\u001b[0m\u001b[0;34m.\u001b[0m\u001b[0mcheck_response\u001b[0m\u001b[0;34m(\u001b[0m\u001b[0mresponse\u001b[0m\u001b[0;34m)\u001b[0m\u001b[0;34m\u001b[0m\u001b[0;34m\u001b[0m\u001b[0m\n\u001b[0m\u001b[1;32m    322\u001b[0m             response['value'] = self._unwrap_value(\n\u001b[1;32m    323\u001b[0m                 response.get('value', None))\n",
            "\u001b[0;32m/usr/local/lib/python3.6/dist-packages/selenium/webdriver/remote/errorhandler.py\u001b[0m in \u001b[0;36mcheck_response\u001b[0;34m(self, response)\u001b[0m\n\u001b[1;32m    240\u001b[0m                 \u001b[0malert_text\u001b[0m \u001b[0;34m=\u001b[0m \u001b[0mvalue\u001b[0m\u001b[0;34m[\u001b[0m\u001b[0;34m'alert'\u001b[0m\u001b[0;34m]\u001b[0m\u001b[0;34m.\u001b[0m\u001b[0mget\u001b[0m\u001b[0;34m(\u001b[0m\u001b[0;34m'text'\u001b[0m\u001b[0;34m)\u001b[0m\u001b[0;34m\u001b[0m\u001b[0;34m\u001b[0m\u001b[0m\n\u001b[1;32m    241\u001b[0m             \u001b[0;32mraise\u001b[0m \u001b[0mexception_class\u001b[0m\u001b[0;34m(\u001b[0m\u001b[0mmessage\u001b[0m\u001b[0;34m,\u001b[0m \u001b[0mscreen\u001b[0m\u001b[0;34m,\u001b[0m \u001b[0mstacktrace\u001b[0m\u001b[0;34m,\u001b[0m \u001b[0malert_text\u001b[0m\u001b[0;34m)\u001b[0m\u001b[0;34m\u001b[0m\u001b[0;34m\u001b[0m\u001b[0m\n\u001b[0;32m--> 242\u001b[0;31m         \u001b[0;32mraise\u001b[0m \u001b[0mexception_class\u001b[0m\u001b[0;34m(\u001b[0m\u001b[0mmessage\u001b[0m\u001b[0;34m,\u001b[0m \u001b[0mscreen\u001b[0m\u001b[0;34m,\u001b[0m \u001b[0mstacktrace\u001b[0m\u001b[0;34m)\u001b[0m\u001b[0;34m\u001b[0m\u001b[0;34m\u001b[0m\u001b[0m\n\u001b[0m\u001b[1;32m    243\u001b[0m \u001b[0;34m\u001b[0m\u001b[0m\n\u001b[1;32m    244\u001b[0m     \u001b[0;32mdef\u001b[0m \u001b[0m_value_or_default\u001b[0m\u001b[0;34m(\u001b[0m\u001b[0mself\u001b[0m\u001b[0;34m,\u001b[0m \u001b[0mobj\u001b[0m\u001b[0;34m,\u001b[0m \u001b[0mkey\u001b[0m\u001b[0;34m,\u001b[0m \u001b[0mdefault\u001b[0m\u001b[0;34m)\u001b[0m\u001b[0;34m:\u001b[0m\u001b[0;34m\u001b[0m\u001b[0;34m\u001b[0m\u001b[0m\n",
            "\u001b[0;31mElementClickInterceptedException\u001b[0m: Message: element click intercepted: Element <a class=\"_1LKTO3\" href=\"/search?q=sunglasses&amp;otracker=search&amp;otracker1=search&amp;marketplace=FLIPKART&amp;as-show=on&amp;as=off&amp;page=3\">...</a> is not clickable at point (742, 569). Other element would receive the click: <span>...</span>\n  (Session info: headless chrome=87.0.4280.66)\n"
          ]
        }
      ]
    },
    {
      "cell_type": "code",
      "metadata": {
        "colab": {
          "base_uri": "https://localhost:8080/",
          "height": 449
        },
        "id": "vpL5f7iPW4VW",
        "outputId": "68721db8-3e86-402f-bd1b-95aabddb7c28"
      },
      "source": [
        "# initializing web driver and webpage\r\n",
        "driver.get('https://www.flipkart.com/apple-iphone-11-black-64-gb-includes-earpods-power-adapter/p/itm0f37c2240b217?pid=MOBFKCTSVZAXUHGR&lid=LSTMOBFKCTSVZAXUHGREPBFGI&marketplace')\r\n",
        "driver.get('https://www.flipkart.com/apple-iphone-11-black-64-gb-includes-earpods-power-adapter/product-reviews/itm0f37c2240b217?pid=MOBFKCTSVZAXUHGR&lid=LSTMOBFKCTSVZAXUHGREPBFGI&marketplace=FLIPKART')\r\n",
        "driver.find_element_by_xpath(\"//nav[@class = 'yFHi8N']/a[1]\").click()\r\n",
        "review_summary = []\r\n",
        "rating = []\r\n",
        "full_review = []\r\n",
        "\r\n",
        "# loop for extracting product reviews and ratings for each page till page 10\r\n",
        "page = 1\r\n",
        "end_page = 10\r\n",
        "while page <= end_page:\r\n",
        "    bs = BeautifulSoup(driver.page_source, 'html.parser')\r\n",
        "    review = bs.find('div','_1YokD2 _3Mn1Gg col-9-12')\r\n",
        "    print('Data extracted for page:',page)\r\n",
        "    for i in review:\r\n",
        "        for j in i.find_all('p','_2-N8zT'):\r\n",
        "            review_summary.append(j.text)\r\n",
        "        for k in i.find_all('div','t-ZTKy'):\r\n",
        "                 full_review.append(k.text)\r\n",
        "\r\n",
        "    for i in driver.find_elements_by_class_name('_27M-vq'):\r\n",
        "             rating.append(i.text[0])\r\n",
        "\r\n",
        "    if page == 1:\r\n",
        "        driver.find_element_by_xpath(\"//nav[@class = 'yFHi8N']/a[11]\").click()\r\n",
        "        \r\n",
        "    elif  1 < page < end_page :\r\n",
        "         driver.find_element_by_xpath(\"//nav[@class = 'yFHi8N']/a[12]\").click()\r\n",
        "            \r\n",
        "    else:\r\n",
        "        break\r\n",
        "    page+= 1\r\n",
        "            \r\n",
        "review_df = pd.DataFrame({'Rating':rating,\r\n",
        "                          'Review': review_summary,\r\n",
        "                          'Full_review':full_review})\r\n",
        "review_df"
      ],
      "execution_count": 361,
      "outputs": [
        {
          "output_type": "stream",
          "text": [
            "Data extracted for page: 1\n",
            "Data extracted for page: 2\n"
          ],
          "name": "stdout"
        },
        {
          "output_type": "error",
          "ename": "StaleElementReferenceException",
          "evalue": "ignored",
          "traceback": [
            "\u001b[0;31m---------------------------------------------------------------------------\u001b[0m",
            "\u001b[0;31mStaleElementReferenceException\u001b[0m            Traceback (most recent call last)",
            "\u001b[0;32m<ipython-input-361-98c01803223f>\u001b[0m in \u001b[0;36m<module>\u001b[0;34m()\u001b[0m\n\u001b[1;32m     21\u001b[0m \u001b[0;34m\u001b[0m\u001b[0m\n\u001b[1;32m     22\u001b[0m     \u001b[0;32mfor\u001b[0m \u001b[0mi\u001b[0m \u001b[0;32min\u001b[0m \u001b[0mdriver\u001b[0m\u001b[0;34m.\u001b[0m\u001b[0mfind_elements_by_class_name\u001b[0m\u001b[0;34m(\u001b[0m\u001b[0;34m'_27M-vq'\u001b[0m\u001b[0;34m)\u001b[0m\u001b[0;34m:\u001b[0m\u001b[0;34m\u001b[0m\u001b[0;34m\u001b[0m\u001b[0m\n\u001b[0;32m---> 23\u001b[0;31m              \u001b[0mrating\u001b[0m\u001b[0;34m.\u001b[0m\u001b[0mappend\u001b[0m\u001b[0;34m(\u001b[0m\u001b[0mi\u001b[0m\u001b[0;34m.\u001b[0m\u001b[0mtext\u001b[0m\u001b[0;34m[\u001b[0m\u001b[0;36m0\u001b[0m\u001b[0;34m]\u001b[0m\u001b[0;34m)\u001b[0m\u001b[0;34m\u001b[0m\u001b[0;34m\u001b[0m\u001b[0m\n\u001b[0m\u001b[1;32m     24\u001b[0m \u001b[0;34m\u001b[0m\u001b[0m\n\u001b[1;32m     25\u001b[0m     \u001b[0;32mif\u001b[0m \u001b[0mpage\u001b[0m \u001b[0;34m==\u001b[0m \u001b[0;36m1\u001b[0m\u001b[0;34m:\u001b[0m\u001b[0;34m\u001b[0m\u001b[0;34m\u001b[0m\u001b[0m\n",
            "\u001b[0;32m/usr/local/lib/python3.6/dist-packages/selenium/webdriver/remote/webelement.py\u001b[0m in \u001b[0;36mtext\u001b[0;34m(self)\u001b[0m\n\u001b[1;32m     74\u001b[0m     \u001b[0;32mdef\u001b[0m \u001b[0mtext\u001b[0m\u001b[0;34m(\u001b[0m\u001b[0mself\u001b[0m\u001b[0;34m)\u001b[0m\u001b[0;34m:\u001b[0m\u001b[0;34m\u001b[0m\u001b[0;34m\u001b[0m\u001b[0m\n\u001b[1;32m     75\u001b[0m         \u001b[0;34m\"\"\"The text of the element.\"\"\"\u001b[0m\u001b[0;34m\u001b[0m\u001b[0;34m\u001b[0m\u001b[0m\n\u001b[0;32m---> 76\u001b[0;31m         \u001b[0;32mreturn\u001b[0m \u001b[0mself\u001b[0m\u001b[0;34m.\u001b[0m\u001b[0m_execute\u001b[0m\u001b[0;34m(\u001b[0m\u001b[0mCommand\u001b[0m\u001b[0;34m.\u001b[0m\u001b[0mGET_ELEMENT_TEXT\u001b[0m\u001b[0;34m)\u001b[0m\u001b[0;34m[\u001b[0m\u001b[0;34m'value'\u001b[0m\u001b[0;34m]\u001b[0m\u001b[0;34m\u001b[0m\u001b[0;34m\u001b[0m\u001b[0m\n\u001b[0m\u001b[1;32m     77\u001b[0m \u001b[0;34m\u001b[0m\u001b[0m\n\u001b[1;32m     78\u001b[0m     \u001b[0;32mdef\u001b[0m \u001b[0mclick\u001b[0m\u001b[0;34m(\u001b[0m\u001b[0mself\u001b[0m\u001b[0;34m)\u001b[0m\u001b[0;34m:\u001b[0m\u001b[0;34m\u001b[0m\u001b[0;34m\u001b[0m\u001b[0m\n",
            "\u001b[0;32m/usr/local/lib/python3.6/dist-packages/selenium/webdriver/remote/webelement.py\u001b[0m in \u001b[0;36m_execute\u001b[0;34m(self, command, params)\u001b[0m\n\u001b[1;32m    631\u001b[0m             \u001b[0mparams\u001b[0m \u001b[0;34m=\u001b[0m \u001b[0;34m{\u001b[0m\u001b[0;34m}\u001b[0m\u001b[0;34m\u001b[0m\u001b[0;34m\u001b[0m\u001b[0m\n\u001b[1;32m    632\u001b[0m         \u001b[0mparams\u001b[0m\u001b[0;34m[\u001b[0m\u001b[0;34m'id'\u001b[0m\u001b[0;34m]\u001b[0m \u001b[0;34m=\u001b[0m \u001b[0mself\u001b[0m\u001b[0;34m.\u001b[0m\u001b[0m_id\u001b[0m\u001b[0;34m\u001b[0m\u001b[0;34m\u001b[0m\u001b[0m\n\u001b[0;32m--> 633\u001b[0;31m         \u001b[0;32mreturn\u001b[0m \u001b[0mself\u001b[0m\u001b[0;34m.\u001b[0m\u001b[0m_parent\u001b[0m\u001b[0;34m.\u001b[0m\u001b[0mexecute\u001b[0m\u001b[0;34m(\u001b[0m\u001b[0mcommand\u001b[0m\u001b[0;34m,\u001b[0m \u001b[0mparams\u001b[0m\u001b[0;34m)\u001b[0m\u001b[0;34m\u001b[0m\u001b[0;34m\u001b[0m\u001b[0m\n\u001b[0m\u001b[1;32m    634\u001b[0m \u001b[0;34m\u001b[0m\u001b[0m\n\u001b[1;32m    635\u001b[0m     \u001b[0;32mdef\u001b[0m \u001b[0mfind_element\u001b[0m\u001b[0;34m(\u001b[0m\u001b[0mself\u001b[0m\u001b[0;34m,\u001b[0m \u001b[0mby\u001b[0m\u001b[0;34m=\u001b[0m\u001b[0mBy\u001b[0m\u001b[0;34m.\u001b[0m\u001b[0mID\u001b[0m\u001b[0;34m,\u001b[0m \u001b[0mvalue\u001b[0m\u001b[0;34m=\u001b[0m\u001b[0;32mNone\u001b[0m\u001b[0;34m)\u001b[0m\u001b[0;34m:\u001b[0m\u001b[0;34m\u001b[0m\u001b[0;34m\u001b[0m\u001b[0m\n",
            "\u001b[0;32m/usr/local/lib/python3.6/dist-packages/selenium/webdriver/remote/webdriver.py\u001b[0m in \u001b[0;36mexecute\u001b[0;34m(self, driver_command, params)\u001b[0m\n\u001b[1;32m    319\u001b[0m         \u001b[0mresponse\u001b[0m \u001b[0;34m=\u001b[0m \u001b[0mself\u001b[0m\u001b[0;34m.\u001b[0m\u001b[0mcommand_executor\u001b[0m\u001b[0;34m.\u001b[0m\u001b[0mexecute\u001b[0m\u001b[0;34m(\u001b[0m\u001b[0mdriver_command\u001b[0m\u001b[0;34m,\u001b[0m \u001b[0mparams\u001b[0m\u001b[0;34m)\u001b[0m\u001b[0;34m\u001b[0m\u001b[0;34m\u001b[0m\u001b[0m\n\u001b[1;32m    320\u001b[0m         \u001b[0;32mif\u001b[0m \u001b[0mresponse\u001b[0m\u001b[0;34m:\u001b[0m\u001b[0;34m\u001b[0m\u001b[0;34m\u001b[0m\u001b[0m\n\u001b[0;32m--> 321\u001b[0;31m             \u001b[0mself\u001b[0m\u001b[0;34m.\u001b[0m\u001b[0merror_handler\u001b[0m\u001b[0;34m.\u001b[0m\u001b[0mcheck_response\u001b[0m\u001b[0;34m(\u001b[0m\u001b[0mresponse\u001b[0m\u001b[0;34m)\u001b[0m\u001b[0;34m\u001b[0m\u001b[0;34m\u001b[0m\u001b[0m\n\u001b[0m\u001b[1;32m    322\u001b[0m             response['value'] = self._unwrap_value(\n\u001b[1;32m    323\u001b[0m                 response.get('value', None))\n",
            "\u001b[0;32m/usr/local/lib/python3.6/dist-packages/selenium/webdriver/remote/errorhandler.py\u001b[0m in \u001b[0;36mcheck_response\u001b[0;34m(self, response)\u001b[0m\n\u001b[1;32m    240\u001b[0m                 \u001b[0malert_text\u001b[0m \u001b[0;34m=\u001b[0m \u001b[0mvalue\u001b[0m\u001b[0;34m[\u001b[0m\u001b[0;34m'alert'\u001b[0m\u001b[0;34m]\u001b[0m\u001b[0;34m.\u001b[0m\u001b[0mget\u001b[0m\u001b[0;34m(\u001b[0m\u001b[0;34m'text'\u001b[0m\u001b[0;34m)\u001b[0m\u001b[0;34m\u001b[0m\u001b[0;34m\u001b[0m\u001b[0m\n\u001b[1;32m    241\u001b[0m             \u001b[0;32mraise\u001b[0m \u001b[0mexception_class\u001b[0m\u001b[0;34m(\u001b[0m\u001b[0mmessage\u001b[0m\u001b[0;34m,\u001b[0m \u001b[0mscreen\u001b[0m\u001b[0;34m,\u001b[0m \u001b[0mstacktrace\u001b[0m\u001b[0;34m,\u001b[0m \u001b[0malert_text\u001b[0m\u001b[0;34m)\u001b[0m\u001b[0;34m\u001b[0m\u001b[0;34m\u001b[0m\u001b[0m\n\u001b[0;32m--> 242\u001b[0;31m         \u001b[0;32mraise\u001b[0m \u001b[0mexception_class\u001b[0m\u001b[0;34m(\u001b[0m\u001b[0mmessage\u001b[0m\u001b[0;34m,\u001b[0m \u001b[0mscreen\u001b[0m\u001b[0;34m,\u001b[0m \u001b[0mstacktrace\u001b[0m\u001b[0;34m)\u001b[0m\u001b[0;34m\u001b[0m\u001b[0;34m\u001b[0m\u001b[0m\n\u001b[0m\u001b[1;32m    243\u001b[0m \u001b[0;34m\u001b[0m\u001b[0m\n\u001b[1;32m    244\u001b[0m     \u001b[0;32mdef\u001b[0m \u001b[0m_value_or_default\u001b[0m\u001b[0;34m(\u001b[0m\u001b[0mself\u001b[0m\u001b[0;34m,\u001b[0m \u001b[0mobj\u001b[0m\u001b[0;34m,\u001b[0m \u001b[0mkey\u001b[0m\u001b[0;34m,\u001b[0m \u001b[0mdefault\u001b[0m\u001b[0;34m)\u001b[0m\u001b[0;34m:\u001b[0m\u001b[0;34m\u001b[0m\u001b[0;34m\u001b[0m\u001b[0m\n",
            "\u001b[0;31mStaleElementReferenceException\u001b[0m: Message: stale element reference: element is not attached to the page document\n  (Session info: headless chrome=87.0.4280.66)\n"
          ]
        }
      ]
    },
    {
      "cell_type": "code",
      "metadata": {
        "colab": {
          "base_uri": "https://localhost:8080/",
          "height": 540
        },
        "id": "QpcxQ97-ZsH6",
        "outputId": "7871f1d4-a0a6-4f6e-c55b-8ef8e26ba6c3"
      },
      "source": [
        "# using user-defined function 'flipkart_products' for scraping sneakers data\r\n",
        "flipkart_products(product = 'sneakers')"
      ],
      "execution_count": 368,
      "outputs": [
        {
          "output_type": "stream",
          "text": [
            "loading............. \n",
            "\n",
            "Data extracted for page: 1 \n",
            "\n",
            "loading............. \n",
            "\n",
            "Data extracted for page: 2 \n",
            "\n"
          ],
          "name": "stdout"
        },
        {
          "output_type": "error",
          "ename": "ElementClickInterceptedException",
          "evalue": "ignored",
          "traceback": [
            "\u001b[0;31m---------------------------------------------------------------------------\u001b[0m",
            "\u001b[0;31mElementClickInterceptedException\u001b[0m          Traceback (most recent call last)",
            "\u001b[0;32m<ipython-input-368-ce08b432f601>\u001b[0m in \u001b[0;36m<module>\u001b[0;34m()\u001b[0m\n\u001b[1;32m      1\u001b[0m \u001b[0;31m# using user-defined function 'flipkart_products' for scraping sneakers data\u001b[0m\u001b[0;34m\u001b[0m\u001b[0;34m\u001b[0m\u001b[0;34m\u001b[0m\u001b[0m\n\u001b[0;32m----> 2\u001b[0;31m \u001b[0mflipkart_products\u001b[0m\u001b[0;34m(\u001b[0m\u001b[0mproduct\u001b[0m \u001b[0;34m=\u001b[0m \u001b[0;34m'sneakers'\u001b[0m\u001b[0;34m)\u001b[0m\u001b[0;34m\u001b[0m\u001b[0;34m\u001b[0m\u001b[0m\n\u001b[0m",
            "\u001b[0;32m<ipython-input-366-887ea2226670>\u001b[0m in \u001b[0;36mflipkart_products\u001b[0;34m(product)\u001b[0m\n\u001b[1;32m     37\u001b[0m             \u001b[0;32mbreak\u001b[0m\u001b[0;34m\u001b[0m\u001b[0;34m\u001b[0m\u001b[0m\n\u001b[1;32m     38\u001b[0m         \u001b[0;32melse\u001b[0m\u001b[0;34m:\u001b[0m\u001b[0;34m\u001b[0m\u001b[0;34m\u001b[0m\u001b[0m\n\u001b[0;32m---> 39\u001b[0;31m             \u001b[0mnxt\u001b[0m\u001b[0;34m.\u001b[0m\u001b[0mclick\u001b[0m\u001b[0;34m(\u001b[0m\u001b[0;34m)\u001b[0m\u001b[0;34m\u001b[0m\u001b[0;34m\u001b[0m\u001b[0m\n\u001b[0m\u001b[1;32m     40\u001b[0m             \u001b[0mprint\u001b[0m\u001b[0;34m(\u001b[0m\u001b[0;34m'loading.............'\u001b[0m\u001b[0;34m,\u001b[0m\u001b[0;34m'\\n'\u001b[0m\u001b[0;34m)\u001b[0m\u001b[0;34m\u001b[0m\u001b[0;34m\u001b[0m\u001b[0m\n\u001b[1;32m     41\u001b[0m             \u001b[0mpage\u001b[0m \u001b[0;34m+=\u001b[0m \u001b[0;36m1\u001b[0m\u001b[0;34m\u001b[0m\u001b[0;34m\u001b[0m\u001b[0m\n",
            "\u001b[0;32m/usr/local/lib/python3.6/dist-packages/selenium/webdriver/remote/webelement.py\u001b[0m in \u001b[0;36mclick\u001b[0;34m(self)\u001b[0m\n\u001b[1;32m     78\u001b[0m     \u001b[0;32mdef\u001b[0m \u001b[0mclick\u001b[0m\u001b[0;34m(\u001b[0m\u001b[0mself\u001b[0m\u001b[0;34m)\u001b[0m\u001b[0;34m:\u001b[0m\u001b[0;34m\u001b[0m\u001b[0;34m\u001b[0m\u001b[0m\n\u001b[1;32m     79\u001b[0m         \u001b[0;34m\"\"\"Clicks the element.\"\"\"\u001b[0m\u001b[0;34m\u001b[0m\u001b[0;34m\u001b[0m\u001b[0m\n\u001b[0;32m---> 80\u001b[0;31m         \u001b[0mself\u001b[0m\u001b[0;34m.\u001b[0m\u001b[0m_execute\u001b[0m\u001b[0;34m(\u001b[0m\u001b[0mCommand\u001b[0m\u001b[0;34m.\u001b[0m\u001b[0mCLICK_ELEMENT\u001b[0m\u001b[0;34m)\u001b[0m\u001b[0;34m\u001b[0m\u001b[0;34m\u001b[0m\u001b[0m\n\u001b[0m\u001b[1;32m     81\u001b[0m \u001b[0;34m\u001b[0m\u001b[0m\n\u001b[1;32m     82\u001b[0m     \u001b[0;32mdef\u001b[0m \u001b[0msubmit\u001b[0m\u001b[0;34m(\u001b[0m\u001b[0mself\u001b[0m\u001b[0;34m)\u001b[0m\u001b[0;34m:\u001b[0m\u001b[0;34m\u001b[0m\u001b[0;34m\u001b[0m\u001b[0m\n",
            "\u001b[0;32m/usr/local/lib/python3.6/dist-packages/selenium/webdriver/remote/webelement.py\u001b[0m in \u001b[0;36m_execute\u001b[0;34m(self, command, params)\u001b[0m\n\u001b[1;32m    631\u001b[0m             \u001b[0mparams\u001b[0m \u001b[0;34m=\u001b[0m \u001b[0;34m{\u001b[0m\u001b[0;34m}\u001b[0m\u001b[0;34m\u001b[0m\u001b[0;34m\u001b[0m\u001b[0m\n\u001b[1;32m    632\u001b[0m         \u001b[0mparams\u001b[0m\u001b[0;34m[\u001b[0m\u001b[0;34m'id'\u001b[0m\u001b[0;34m]\u001b[0m \u001b[0;34m=\u001b[0m \u001b[0mself\u001b[0m\u001b[0;34m.\u001b[0m\u001b[0m_id\u001b[0m\u001b[0;34m\u001b[0m\u001b[0;34m\u001b[0m\u001b[0m\n\u001b[0;32m--> 633\u001b[0;31m         \u001b[0;32mreturn\u001b[0m \u001b[0mself\u001b[0m\u001b[0;34m.\u001b[0m\u001b[0m_parent\u001b[0m\u001b[0;34m.\u001b[0m\u001b[0mexecute\u001b[0m\u001b[0;34m(\u001b[0m\u001b[0mcommand\u001b[0m\u001b[0;34m,\u001b[0m \u001b[0mparams\u001b[0m\u001b[0;34m)\u001b[0m\u001b[0;34m\u001b[0m\u001b[0;34m\u001b[0m\u001b[0m\n\u001b[0m\u001b[1;32m    634\u001b[0m \u001b[0;34m\u001b[0m\u001b[0m\n\u001b[1;32m    635\u001b[0m     \u001b[0;32mdef\u001b[0m \u001b[0mfind_element\u001b[0m\u001b[0;34m(\u001b[0m\u001b[0mself\u001b[0m\u001b[0;34m,\u001b[0m \u001b[0mby\u001b[0m\u001b[0;34m=\u001b[0m\u001b[0mBy\u001b[0m\u001b[0;34m.\u001b[0m\u001b[0mID\u001b[0m\u001b[0;34m,\u001b[0m \u001b[0mvalue\u001b[0m\u001b[0;34m=\u001b[0m\u001b[0;32mNone\u001b[0m\u001b[0;34m)\u001b[0m\u001b[0;34m:\u001b[0m\u001b[0;34m\u001b[0m\u001b[0;34m\u001b[0m\u001b[0m\n",
            "\u001b[0;32m/usr/local/lib/python3.6/dist-packages/selenium/webdriver/remote/webdriver.py\u001b[0m in \u001b[0;36mexecute\u001b[0;34m(self, driver_command, params)\u001b[0m\n\u001b[1;32m    319\u001b[0m         \u001b[0mresponse\u001b[0m \u001b[0;34m=\u001b[0m \u001b[0mself\u001b[0m\u001b[0;34m.\u001b[0m\u001b[0mcommand_executor\u001b[0m\u001b[0;34m.\u001b[0m\u001b[0mexecute\u001b[0m\u001b[0;34m(\u001b[0m\u001b[0mdriver_command\u001b[0m\u001b[0;34m,\u001b[0m \u001b[0mparams\u001b[0m\u001b[0;34m)\u001b[0m\u001b[0;34m\u001b[0m\u001b[0;34m\u001b[0m\u001b[0m\n\u001b[1;32m    320\u001b[0m         \u001b[0;32mif\u001b[0m \u001b[0mresponse\u001b[0m\u001b[0;34m:\u001b[0m\u001b[0;34m\u001b[0m\u001b[0;34m\u001b[0m\u001b[0m\n\u001b[0;32m--> 321\u001b[0;31m             \u001b[0mself\u001b[0m\u001b[0;34m.\u001b[0m\u001b[0merror_handler\u001b[0m\u001b[0;34m.\u001b[0m\u001b[0mcheck_response\u001b[0m\u001b[0;34m(\u001b[0m\u001b[0mresponse\u001b[0m\u001b[0;34m)\u001b[0m\u001b[0;34m\u001b[0m\u001b[0;34m\u001b[0m\u001b[0m\n\u001b[0m\u001b[1;32m    322\u001b[0m             response['value'] = self._unwrap_value(\n\u001b[1;32m    323\u001b[0m                 response.get('value', None))\n",
            "\u001b[0;32m/usr/local/lib/python3.6/dist-packages/selenium/webdriver/remote/errorhandler.py\u001b[0m in \u001b[0;36mcheck_response\u001b[0;34m(self, response)\u001b[0m\n\u001b[1;32m    240\u001b[0m                 \u001b[0malert_text\u001b[0m \u001b[0;34m=\u001b[0m \u001b[0mvalue\u001b[0m\u001b[0;34m[\u001b[0m\u001b[0;34m'alert'\u001b[0m\u001b[0;34m]\u001b[0m\u001b[0;34m.\u001b[0m\u001b[0mget\u001b[0m\u001b[0;34m(\u001b[0m\u001b[0;34m'text'\u001b[0m\u001b[0;34m)\u001b[0m\u001b[0;34m\u001b[0m\u001b[0;34m\u001b[0m\u001b[0m\n\u001b[1;32m    241\u001b[0m             \u001b[0;32mraise\u001b[0m \u001b[0mexception_class\u001b[0m\u001b[0;34m(\u001b[0m\u001b[0mmessage\u001b[0m\u001b[0;34m,\u001b[0m \u001b[0mscreen\u001b[0m\u001b[0;34m,\u001b[0m \u001b[0mstacktrace\u001b[0m\u001b[0;34m,\u001b[0m \u001b[0malert_text\u001b[0m\u001b[0;34m)\u001b[0m\u001b[0;34m\u001b[0m\u001b[0;34m\u001b[0m\u001b[0m\n\u001b[0;32m--> 242\u001b[0;31m         \u001b[0;32mraise\u001b[0m \u001b[0mexception_class\u001b[0m\u001b[0;34m(\u001b[0m\u001b[0mmessage\u001b[0m\u001b[0;34m,\u001b[0m \u001b[0mscreen\u001b[0m\u001b[0;34m,\u001b[0m \u001b[0mstacktrace\u001b[0m\u001b[0;34m)\u001b[0m\u001b[0;34m\u001b[0m\u001b[0;34m\u001b[0m\u001b[0m\n\u001b[0m\u001b[1;32m    243\u001b[0m \u001b[0;34m\u001b[0m\u001b[0m\n\u001b[1;32m    244\u001b[0m     \u001b[0;32mdef\u001b[0m \u001b[0m_value_or_default\u001b[0m\u001b[0;34m(\u001b[0m\u001b[0mself\u001b[0m\u001b[0;34m,\u001b[0m \u001b[0mobj\u001b[0m\u001b[0;34m,\u001b[0m \u001b[0mkey\u001b[0m\u001b[0;34m,\u001b[0m \u001b[0mdefault\u001b[0m\u001b[0;34m)\u001b[0m\u001b[0;34m:\u001b[0m\u001b[0;34m\u001b[0m\u001b[0;34m\u001b[0m\u001b[0m\n",
            "\u001b[0;31mElementClickInterceptedException\u001b[0m: Message: element click intercepted: Element <a class=\"_1LKTO3\" href=\"/search?q=sunglasses&amp;otracker=search&amp;otracker1=search&amp;marketplace=FLIPKART&amp;as-show=on&amp;as=off&amp;page=3\">...</a> is not clickable at point (742, 569). Other element would receive the click: <span>...</span>\n  (Session info: headless chrome=87.0.4280.66)\n"
          ]
        }
      ]
    },
    {
      "cell_type": "code",
      "metadata": {
        "colab": {
          "base_uri": "https://localhost:8080/",
          "height": 431
        },
        "id": "668vji_YZ8WE",
        "outputId": "1da0929e-a0f6-412a-c02d-f211a57adc53"
      },
      "source": [
        "# initializing web driver and webpage\r\n",
        "driver.get('https://www.myntra.com/shoes')\r\n",
        "# selecting color and price range\r\n",
        "driver.find_element_by_xpath('//*[@id=\"mountRoot\"]/div/div[1]/main/div[3]/div[1]/section/div/div[5]/ul/li[2]/label/div').click()\r\n",
        "driver.find_element_by_xpath('//*[@id=\"mountRoot\"]/div/div[1]/main/div[3]/div[1]/section/div/div[6]/ul/li[1]/label/div').click()\r\n",
        "\r\n",
        "# loop for extracting shoe data for each page till page 2 \r\n",
        "brand = []\r\n",
        "product = []\r\n",
        "price = []\r\n",
        "page = 1\r\n",
        "end_page = 2\r\n",
        "while page <= end_page:\r\n",
        "    bs = BeautifulSoup(driver.page_source, 'html.parser')\r\n",
        "    shoe_info = bs.find_all('div', attrs ={'class':'product-productMetaInfo'})\r\n",
        "    \r\n",
        "    for i in shoe_info:\r\n",
        "        brand.append(i.find('h3','product-brand').text)\r\n",
        "        product.append(i.find('h4','product-product').text)\r\n",
        "        price.append(i.find('div','product-price').text.split('Rs.')[1])\r\n",
        "\r\n",
        "    if page == end_page:\r\n",
        "        break\r\n",
        "    else:\r\n",
        "        driver.find_element_by_xpath('//ul[@class = \"pagination-container\"]/li[12]/a').click()\r\n",
        "        page += 1\r\n",
        "shoe_df = pd.DataFrame({'Brand': brand,\r\n",
        "                       'Product_description': product,\r\n",
        "                       'Price': price})\r\n",
        "shoe_df"
      ],
      "execution_count": 369,
      "outputs": [
        {
          "output_type": "error",
          "ename": "NoSuchElementException",
          "evalue": "ignored",
          "traceback": [
            "\u001b[0;31m---------------------------------------------------------------------------\u001b[0m",
            "\u001b[0;31mNoSuchElementException\u001b[0m                    Traceback (most recent call last)",
            "\u001b[0;32m<ipython-input-369-4bda3c0219b4>\u001b[0m in \u001b[0;36m<module>\u001b[0;34m()\u001b[0m\n\u001b[1;32m      2\u001b[0m \u001b[0mdriver\u001b[0m\u001b[0;34m.\u001b[0m\u001b[0mget\u001b[0m\u001b[0;34m(\u001b[0m\u001b[0;34m'https://www.myntra.com/shoes'\u001b[0m\u001b[0;34m)\u001b[0m\u001b[0;34m\u001b[0m\u001b[0;34m\u001b[0m\u001b[0m\n\u001b[1;32m      3\u001b[0m \u001b[0;31m# selecting color and price range\u001b[0m\u001b[0;34m\u001b[0m\u001b[0;34m\u001b[0m\u001b[0;34m\u001b[0m\u001b[0m\n\u001b[0;32m----> 4\u001b[0;31m \u001b[0mdriver\u001b[0m\u001b[0;34m.\u001b[0m\u001b[0mfind_element_by_xpath\u001b[0m\u001b[0;34m(\u001b[0m\u001b[0;34m'//*[@id=\"mountRoot\"]/div/div[1]/main/div[3]/div[1]/section/div/div[5]/ul/li[2]/label/div'\u001b[0m\u001b[0;34m)\u001b[0m\u001b[0;34m.\u001b[0m\u001b[0mclick\u001b[0m\u001b[0;34m(\u001b[0m\u001b[0;34m)\u001b[0m\u001b[0;34m\u001b[0m\u001b[0;34m\u001b[0m\u001b[0m\n\u001b[0m\u001b[1;32m      5\u001b[0m \u001b[0mdriver\u001b[0m\u001b[0;34m.\u001b[0m\u001b[0mfind_element_by_xpath\u001b[0m\u001b[0;34m(\u001b[0m\u001b[0;34m'//*[@id=\"mountRoot\"]/div/div[1]/main/div[3]/div[1]/section/div/div[6]/ul/li[1]/label/div'\u001b[0m\u001b[0;34m)\u001b[0m\u001b[0;34m.\u001b[0m\u001b[0mclick\u001b[0m\u001b[0;34m(\u001b[0m\u001b[0;34m)\u001b[0m\u001b[0;34m\u001b[0m\u001b[0;34m\u001b[0m\u001b[0m\n\u001b[1;32m      6\u001b[0m \u001b[0;34m\u001b[0m\u001b[0m\n",
            "\u001b[0;32m/usr/local/lib/python3.6/dist-packages/selenium/webdriver/remote/webdriver.py\u001b[0m in \u001b[0;36mfind_element_by_xpath\u001b[0;34m(self, xpath)\u001b[0m\n\u001b[1;32m    392\u001b[0m             \u001b[0melement\u001b[0m \u001b[0;34m=\u001b[0m \u001b[0mdriver\u001b[0m\u001b[0;34m.\u001b[0m\u001b[0mfind_element_by_xpath\u001b[0m\u001b[0;34m(\u001b[0m\u001b[0;34m'//div/td[1]'\u001b[0m\u001b[0;34m)\u001b[0m\u001b[0;34m\u001b[0m\u001b[0;34m\u001b[0m\u001b[0m\n\u001b[1;32m    393\u001b[0m         \"\"\"\n\u001b[0;32m--> 394\u001b[0;31m         \u001b[0;32mreturn\u001b[0m \u001b[0mself\u001b[0m\u001b[0;34m.\u001b[0m\u001b[0mfind_element\u001b[0m\u001b[0;34m(\u001b[0m\u001b[0mby\u001b[0m\u001b[0;34m=\u001b[0m\u001b[0mBy\u001b[0m\u001b[0;34m.\u001b[0m\u001b[0mXPATH\u001b[0m\u001b[0;34m,\u001b[0m \u001b[0mvalue\u001b[0m\u001b[0;34m=\u001b[0m\u001b[0mxpath\u001b[0m\u001b[0;34m)\u001b[0m\u001b[0;34m\u001b[0m\u001b[0;34m\u001b[0m\u001b[0m\n\u001b[0m\u001b[1;32m    395\u001b[0m \u001b[0;34m\u001b[0m\u001b[0m\n\u001b[1;32m    396\u001b[0m     \u001b[0;32mdef\u001b[0m \u001b[0mfind_elements_by_xpath\u001b[0m\u001b[0;34m(\u001b[0m\u001b[0mself\u001b[0m\u001b[0;34m,\u001b[0m \u001b[0mxpath\u001b[0m\u001b[0;34m)\u001b[0m\u001b[0;34m:\u001b[0m\u001b[0;34m\u001b[0m\u001b[0;34m\u001b[0m\u001b[0m\n",
            "\u001b[0;32m/usr/local/lib/python3.6/dist-packages/selenium/webdriver/remote/webdriver.py\u001b[0m in \u001b[0;36mfind_element\u001b[0;34m(self, by, value)\u001b[0m\n\u001b[1;32m    976\u001b[0m         return self.execute(Command.FIND_ELEMENT, {\n\u001b[1;32m    977\u001b[0m             \u001b[0;34m'using'\u001b[0m\u001b[0;34m:\u001b[0m \u001b[0mby\u001b[0m\u001b[0;34m,\u001b[0m\u001b[0;34m\u001b[0m\u001b[0;34m\u001b[0m\u001b[0m\n\u001b[0;32m--> 978\u001b[0;31m             'value': value})['value']\n\u001b[0m\u001b[1;32m    979\u001b[0m \u001b[0;34m\u001b[0m\u001b[0m\n\u001b[1;32m    980\u001b[0m     \u001b[0;32mdef\u001b[0m \u001b[0mfind_elements\u001b[0m\u001b[0;34m(\u001b[0m\u001b[0mself\u001b[0m\u001b[0;34m,\u001b[0m \u001b[0mby\u001b[0m\u001b[0;34m=\u001b[0m\u001b[0mBy\u001b[0m\u001b[0;34m.\u001b[0m\u001b[0mID\u001b[0m\u001b[0;34m,\u001b[0m \u001b[0mvalue\u001b[0m\u001b[0;34m=\u001b[0m\u001b[0;32mNone\u001b[0m\u001b[0;34m)\u001b[0m\u001b[0;34m:\u001b[0m\u001b[0;34m\u001b[0m\u001b[0;34m\u001b[0m\u001b[0m\n",
            "\u001b[0;32m/usr/local/lib/python3.6/dist-packages/selenium/webdriver/remote/webdriver.py\u001b[0m in \u001b[0;36mexecute\u001b[0;34m(self, driver_command, params)\u001b[0m\n\u001b[1;32m    319\u001b[0m         \u001b[0mresponse\u001b[0m \u001b[0;34m=\u001b[0m \u001b[0mself\u001b[0m\u001b[0;34m.\u001b[0m\u001b[0mcommand_executor\u001b[0m\u001b[0;34m.\u001b[0m\u001b[0mexecute\u001b[0m\u001b[0;34m(\u001b[0m\u001b[0mdriver_command\u001b[0m\u001b[0;34m,\u001b[0m \u001b[0mparams\u001b[0m\u001b[0;34m)\u001b[0m\u001b[0;34m\u001b[0m\u001b[0;34m\u001b[0m\u001b[0m\n\u001b[1;32m    320\u001b[0m         \u001b[0;32mif\u001b[0m \u001b[0mresponse\u001b[0m\u001b[0;34m:\u001b[0m\u001b[0;34m\u001b[0m\u001b[0;34m\u001b[0m\u001b[0m\n\u001b[0;32m--> 321\u001b[0;31m             \u001b[0mself\u001b[0m\u001b[0;34m.\u001b[0m\u001b[0merror_handler\u001b[0m\u001b[0;34m.\u001b[0m\u001b[0mcheck_response\u001b[0m\u001b[0;34m(\u001b[0m\u001b[0mresponse\u001b[0m\u001b[0;34m)\u001b[0m\u001b[0;34m\u001b[0m\u001b[0;34m\u001b[0m\u001b[0m\n\u001b[0m\u001b[1;32m    322\u001b[0m             response['value'] = self._unwrap_value(\n\u001b[1;32m    323\u001b[0m                 response.get('value', None))\n",
            "\u001b[0;32m/usr/local/lib/python3.6/dist-packages/selenium/webdriver/remote/errorhandler.py\u001b[0m in \u001b[0;36mcheck_response\u001b[0;34m(self, response)\u001b[0m\n\u001b[1;32m    240\u001b[0m                 \u001b[0malert_text\u001b[0m \u001b[0;34m=\u001b[0m \u001b[0mvalue\u001b[0m\u001b[0;34m[\u001b[0m\u001b[0;34m'alert'\u001b[0m\u001b[0;34m]\u001b[0m\u001b[0;34m.\u001b[0m\u001b[0mget\u001b[0m\u001b[0;34m(\u001b[0m\u001b[0;34m'text'\u001b[0m\u001b[0;34m)\u001b[0m\u001b[0;34m\u001b[0m\u001b[0;34m\u001b[0m\u001b[0m\n\u001b[1;32m    241\u001b[0m             \u001b[0;32mraise\u001b[0m \u001b[0mexception_class\u001b[0m\u001b[0;34m(\u001b[0m\u001b[0mmessage\u001b[0m\u001b[0;34m,\u001b[0m \u001b[0mscreen\u001b[0m\u001b[0;34m,\u001b[0m \u001b[0mstacktrace\u001b[0m\u001b[0;34m,\u001b[0m \u001b[0malert_text\u001b[0m\u001b[0;34m)\u001b[0m\u001b[0;34m\u001b[0m\u001b[0;34m\u001b[0m\u001b[0m\n\u001b[0;32m--> 242\u001b[0;31m         \u001b[0;32mraise\u001b[0m \u001b[0mexception_class\u001b[0m\u001b[0;34m(\u001b[0m\u001b[0mmessage\u001b[0m\u001b[0;34m,\u001b[0m \u001b[0mscreen\u001b[0m\u001b[0;34m,\u001b[0m \u001b[0mstacktrace\u001b[0m\u001b[0;34m)\u001b[0m\u001b[0;34m\u001b[0m\u001b[0;34m\u001b[0m\u001b[0m\n\u001b[0m\u001b[1;32m    243\u001b[0m \u001b[0;34m\u001b[0m\u001b[0m\n\u001b[1;32m    244\u001b[0m     \u001b[0;32mdef\u001b[0m \u001b[0m_value_or_default\u001b[0m\u001b[0;34m(\u001b[0m\u001b[0mself\u001b[0m\u001b[0;34m,\u001b[0m \u001b[0mobj\u001b[0m\u001b[0;34m,\u001b[0m \u001b[0mkey\u001b[0m\u001b[0;34m,\u001b[0m \u001b[0mdefault\u001b[0m\u001b[0;34m)\u001b[0m\u001b[0;34m:\u001b[0m\u001b[0;34m\u001b[0m\u001b[0;34m\u001b[0m\u001b[0m\n",
            "\u001b[0;31mNoSuchElementException\u001b[0m: Message: no such element: Unable to locate element: {\"method\":\"xpath\",\"selector\":\"//*[@id=\"mountRoot\"]/div/div[1]/main/div[3]/div[1]/section/div/div[5]/ul/li[2]/label/div\"}\n  (Session info: headless chrome=87.0.4280.66)\n"
          ]
        }
      ]
    },
    {
      "cell_type": "code",
      "metadata": {
        "colab": {
          "base_uri": "https://localhost:8080/",
          "height": 244
        },
        "id": "srn52tlnaLZ2",
        "outputId": "c8235a72-b90f-4d21-8959-e33e4d0a40bc"
      },
      "source": [
        "# initializing web driver and webpage\r\n",
        "driver.get('https://www.amazon.in/')\r\n",
        "# search for product\r\n",
        "driver.find_element_by_id('twotabsearchtextbox').send_keys('Laptop')\r\n",
        "driver.find_element_by_xpath('//div[@class = \"nav-search-submit nav-sprite\"]/span/input').click()\r\n",
        "\r\n",
        "# check whether 'NoSuchElementException' occurs while selecting processor type and to handle exception if it exists.\r\n",
        "try:\r\n",
        "    driver.find_element_by_xpath('//li[@aria-label =\"Intel Core i7\"]/span/a/div/label').click()\r\n",
        "    driver.find_element_by_xpath('//li[@aria-label =\"Intel Core i9\"]/span/a/div/label').click()\r\n",
        "except NoSuchElementException:\r\n",
        "    pass\r\n",
        "\r\n",
        "# loop for extracting first 10 laptops data \r\n",
        "product = []\r\n",
        "price = []\r\n",
        "rating = []\r\n",
        "bs= BeautifulSoup(driver.page_source, 'html.parser')\r\n",
        "product_url = bs.find_all('a', attrs ={'class':'a-link-normal a-text-normal'})\r\n",
        "for i in product_url[:10]:\r\n",
        "    driver.get('https://www.amazon.in/'+i['href'])\r\n",
        "    bs = BeautifulSoup(driver.page_source, 'html.parser')\r\n",
        "    product.append(bs.find('span','a-size-large product-title-word-break').text.replace('\\n',''))\r\n",
        "    try:\r\n",
        "        price.append(bs.find('span','a-size-medium a-color-price priceBlockBuyingPriceString').text.replace('\\xa0',''))\r\n",
        "    except AttributeError:\r\n",
        "        try:\r\n",
        "            price.append(bs.find('span','a-size-medium a-color-price priceBlockDealPriceString').text.replace('\\xa0',''))\r\n",
        "        except AttributeError:\r\n",
        "            try:\r\n",
        "                price.append(bs.find('span','a-size-base a-color-price').text.replace('\\xa0',''))\r\n",
        "            except AttributeError:\r\n",
        "                price.append('-')\r\n",
        "    try:\r\n",
        "        rating.append(bs.find('span','a-size-medium a-color-base').text[:-9])\r\n",
        "    except AttributeError:\r\n",
        "        rating.append('-')\r\n",
        "        \r\n",
        "laptop_df = pd.DataFrame({'Product':product,\r\n",
        "                          'Price': price,\r\n",
        "                          'Rating': rating})\r\n",
        "laptop_df"
      ],
      "execution_count": 370,
      "outputs": [
        {
          "output_type": "error",
          "ename": "AttributeError",
          "evalue": "ignored",
          "traceback": [
            "\u001b[0;31m---------------------------------------------------------------------------\u001b[0m",
            "\u001b[0;31mAttributeError\u001b[0m                            Traceback (most recent call last)",
            "\u001b[0;32m<ipython-input-370-49c09b7128f6>\u001b[0m in \u001b[0;36m<module>\u001b[0;34m()\u001b[0m\n\u001b[1;32m     21\u001b[0m     \u001b[0mdriver\u001b[0m\u001b[0;34m.\u001b[0m\u001b[0mget\u001b[0m\u001b[0;34m(\u001b[0m\u001b[0;34m'https://www.amazon.in/'\u001b[0m\u001b[0;34m+\u001b[0m\u001b[0mi\u001b[0m\u001b[0;34m[\u001b[0m\u001b[0;34m'href'\u001b[0m\u001b[0;34m]\u001b[0m\u001b[0;34m)\u001b[0m\u001b[0;34m\u001b[0m\u001b[0;34m\u001b[0m\u001b[0m\n\u001b[1;32m     22\u001b[0m     \u001b[0mbs\u001b[0m \u001b[0;34m=\u001b[0m \u001b[0mBeautifulSoup\u001b[0m\u001b[0;34m(\u001b[0m\u001b[0mdriver\u001b[0m\u001b[0;34m.\u001b[0m\u001b[0mpage_source\u001b[0m\u001b[0;34m,\u001b[0m \u001b[0;34m'html.parser'\u001b[0m\u001b[0;34m)\u001b[0m\u001b[0;34m\u001b[0m\u001b[0;34m\u001b[0m\u001b[0m\n\u001b[0;32m---> 23\u001b[0;31m     \u001b[0mproduct\u001b[0m\u001b[0;34m.\u001b[0m\u001b[0mappend\u001b[0m\u001b[0;34m(\u001b[0m\u001b[0mbs\u001b[0m\u001b[0;34m.\u001b[0m\u001b[0mfind\u001b[0m\u001b[0;34m(\u001b[0m\u001b[0;34m'span'\u001b[0m\u001b[0;34m,\u001b[0m\u001b[0;34m'a-size-large product-title-word-break'\u001b[0m\u001b[0;34m)\u001b[0m\u001b[0;34m.\u001b[0m\u001b[0mtext\u001b[0m\u001b[0;34m.\u001b[0m\u001b[0mreplace\u001b[0m\u001b[0;34m(\u001b[0m\u001b[0;34m'\\n'\u001b[0m\u001b[0;34m,\u001b[0m\u001b[0;34m''\u001b[0m\u001b[0;34m)\u001b[0m\u001b[0;34m)\u001b[0m\u001b[0;34m\u001b[0m\u001b[0;34m\u001b[0m\u001b[0m\n\u001b[0m\u001b[1;32m     24\u001b[0m     \u001b[0;32mtry\u001b[0m\u001b[0;34m:\u001b[0m\u001b[0;34m\u001b[0m\u001b[0;34m\u001b[0m\u001b[0m\n\u001b[1;32m     25\u001b[0m         \u001b[0mprice\u001b[0m\u001b[0;34m.\u001b[0m\u001b[0mappend\u001b[0m\u001b[0;34m(\u001b[0m\u001b[0mbs\u001b[0m\u001b[0;34m.\u001b[0m\u001b[0mfind\u001b[0m\u001b[0;34m(\u001b[0m\u001b[0;34m'span'\u001b[0m\u001b[0;34m,\u001b[0m\u001b[0;34m'a-size-medium a-color-price priceBlockBuyingPriceString'\u001b[0m\u001b[0;34m)\u001b[0m\u001b[0;34m.\u001b[0m\u001b[0mtext\u001b[0m\u001b[0;34m.\u001b[0m\u001b[0mreplace\u001b[0m\u001b[0;34m(\u001b[0m\u001b[0;34m'\\xa0'\u001b[0m\u001b[0;34m,\u001b[0m\u001b[0;34m''\u001b[0m\u001b[0;34m)\u001b[0m\u001b[0;34m)\u001b[0m\u001b[0;34m\u001b[0m\u001b[0;34m\u001b[0m\u001b[0m\n",
            "\u001b[0;31mAttributeError\u001b[0m: 'NoneType' object has no attribute 'text'"
          ]
        }
      ]
    },
    {
      "cell_type": "markdown",
      "metadata": {
        "id": "XHW0sL8IUmbW"
      },
      "source": [
        ""
      ]
    }
  ]
}